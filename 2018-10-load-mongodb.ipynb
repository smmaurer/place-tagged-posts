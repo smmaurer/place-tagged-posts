{
 "cells": [
  {
   "cell_type": "markdown",
   "metadata": {},
   "source": [
    "# Loading tweets into mongodb\n",
    "\n",
    "Sam Maurer, October 2018\n",
    "\n",
    "This notebook loads tweets into MongoDB.\n",
    "\n",
    "Make sure to launch the mongodb server first:  \n",
    "`mongod --dbpath ~/mongodb-data`"
   ]
  },
  {
   "cell_type": "code",
   "execution_count": 1,
   "metadata": {},
   "outputs": [],
   "source": [
    "import json\n",
    "import pymongo\n",
    "import time\n",
    "import os\n",
    "import zipfile\n",
    "\n",
    "from bson import json_util  # special mongo json parsing"
   ]
  },
  {
   "cell_type": "code",
   "execution_count": null,
   "metadata": {},
   "outputs": [],
   "source": []
  },
  {
   "cell_type": "markdown",
   "metadata": {},
   "source": [
    "### Function definitions"
   ]
  },
  {
   "cell_type": "code",
   "execution_count": 8,
   "metadata": {},
   "outputs": [],
   "source": [
    "def load_data(fpath, collection):\n",
    "    \"\"\"\n",
    "    Load a single compressed JSON file into MongoDB.\n",
    "    \n",
    "    \"\"\"\n",
    "    t0 = time.time()\n",
    "    data = []\n",
    "    with zipfile.ZipFile(fpath) as z:\n",
    "        with z.open(trim_zip(fpath)) as f:\n",
    "            for line in f:\n",
    "                data.append(json_util.loads(line))\n",
    "\n",
    "    collection.insert_many(data)\n",
    "    print(fpath.split('/')[-1])\n",
    "    print(str(round(time.time()-t0,2)) + ' sec.')"
   ]
  },
  {
   "cell_type": "code",
   "execution_count": 9,
   "metadata": {},
   "outputs": [],
   "source": [
    "def load_fpaths(fpaths, collection):\n",
    "    \"\"\"\n",
    "    Load multiple files at once.\n",
    "    \n",
    "    \"\"\"\n",
    "    for fpath in fpaths:\n",
    "        load_data(fpath, collection)"
   ]
  },
  {
   "cell_type": "code",
   "execution_count": 10,
   "metadata": {},
   "outputs": [],
   "source": [
    "def trim_zip(fpath):\n",
    "    \"\"\"\n",
    "    Return the name of the JSON file within the ZIP archive.\n",
    "    \n",
    "    \"\"\"\n",
    "    return fpath.split('/')[-1].split('.zip')[0]"
   ]
  },
  {
   "cell_type": "code",
   "execution_count": 11,
   "metadata": {},
   "outputs": [],
   "source": [
    "def get_filepaths(dir_path):\n",
    "    \"\"\"\n",
    "    Return list of filepaths in a directory (potentially only the ones after \n",
    "    a certain point).\n",
    "    \n",
    "    \"\"\"\n",
    "    flist = [dir_path + f for f in os.listdir(dir_path)]\n",
    "    return flist"
   ]
  },
  {
   "cell_type": "code",
   "execution_count": null,
   "metadata": {},
   "outputs": [],
   "source": []
  },
  {
   "cell_type": "markdown",
   "metadata": {},
   "source": [
    "### Load data"
   ]
  },
  {
   "cell_type": "code",
   "execution_count": 5,
   "metadata": {},
   "outputs": [],
   "source": [
    "client = pymongo.MongoClient()"
   ]
  },
  {
   "cell_type": "code",
   "execution_count": 7,
   "metadata": {},
   "outputs": [],
   "source": [
    "db = client.tweets\n",
    "collection = db.westcoastmonthly"
   ]
  },
  {
   "cell_type": "code",
   "execution_count": 12,
   "metadata": {},
   "outputs": [],
   "source": [
    "path = '/Users/maurer/Dropbox/Data/Twitter/Westcoast-monthly-samples/json/'"
   ]
  },
  {
   "cell_type": "code",
   "execution_count": 13,
   "metadata": {},
   "outputs": [
    {
     "name": "stdout",
     "output_type": "stream",
     "text": [
      "36\n"
     ]
    }
   ],
   "source": [
    "flist = get_filepaths(path)\n",
    "print(len(flist))"
   ]
  },
  {
   "cell_type": "code",
   "execution_count": null,
   "metadata": {},
   "outputs": [
    {
     "name": "stdout",
     "output_type": "stream",
     "text": [
      "westcoast-20160601-192436.json.zip\n",
      "164.29 sec.\n",
      "westcoast-20160401-191211.json.zip\n",
      "119.84 sec.\n",
      "westcoast-20170101-175347.json.zip\n",
      "127.39 sec.\n",
      "westcoast-20160301-094718.json.zip\n",
      "121.2 sec.\n",
      "westcoast-20170902-122729.json.zip\n",
      "136.28 sec.\n",
      "westcoast-20180301-154248.json.zip\n",
      "139.45 sec.\n",
      "westcoast-20180601-095926.json.zip\n",
      "147.59 sec.\n",
      "westcoast-20170702-084313.json.zip\n",
      "137.18 sec.\n",
      "westcoast-20171004-112241.json.zip\n",
      "135.61 sec.\n",
      "westcoast-20180202-123000.json.zip\n",
      "147.14 sec.\n",
      "westcoast-20170601-140731.json.zip\n",
      "144.26 sec.\n",
      "westcoast-20151001-191836.json.zip\n",
      "122.7 sec.\n",
      "westcoast-20171201-230141.json.zip\n",
      "151.2 sec.\n",
      "westcoast-20180101-191327.json.zip\n",
      "150.91 sec.\n",
      "westcoast-20161101-084426.json.zip\n",
      "127.39 sec.\n",
      "westcoast-20160101-155746.json.zip\n",
      "152.96 sec.\n",
      "westcoast-20160501-094246.json.zip\n",
      "134.9 sec.\n",
      "westcoast-20160801-170131.json.zip\n",
      "133.45 sec.\n",
      "westcoast-20160701-225312.json.zip\n",
      "118.35 sec.\n",
      "westcoast-20180401-200911.json.zip\n",
      "157.01 sec.\n",
      "westcoast-20170401-060734.json.zip\n",
      "156.15 sec.\n",
      "westcoast-20161001-060557.json.zip\n",
      "159.28 sec.\n",
      "westcoast-20171102-153229.json.zip\n",
      "159.04 sec.\n",
      "westcoast-20160201-134400.json.zip\n",
      "153.92 sec.\n"
     ]
    }
   ],
   "source": [
    "load_fpaths(flist, collection)"
   ]
  },
  {
   "cell_type": "code",
   "execution_count": null,
   "metadata": {},
   "outputs": [],
   "source": [
    "collection.count_documents({})"
   ]
  },
  {
   "cell_type": "code",
   "execution_count": null,
   "metadata": {},
   "outputs": [],
   "source": []
  },
  {
   "cell_type": "code",
   "execution_count": null,
   "metadata": {},
   "outputs": [],
   "source": []
  },
  {
   "cell_type": "code",
   "execution_count": null,
   "metadata": {},
   "outputs": [],
   "source": [
    "db.westcoastmonthly.drop()\n",
    "collection = db.westcoastmonthly"
   ]
  }
 ],
 "metadata": {
  "kernelspec": {
   "display_name": "Python 3",
   "language": "python",
   "name": "python3"
  },
  "language_info": {
   "codemirror_mode": {
    "name": "ipython",
    "version": 3
   },
   "file_extension": ".py",
   "mimetype": "text/x-python",
   "name": "python",
   "nbconvert_exporter": "python",
   "pygments_lexer": "ipython3",
   "version": "3.6.6"
  }
 },
 "nbformat": 4,
 "nbformat_minor": 2
}
