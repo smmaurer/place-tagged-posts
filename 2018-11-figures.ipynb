{
 "cells": [
  {
   "cell_type": "markdown",
   "metadata": {},
   "source": [
    "# Figures for paper\n",
    "\n",
    "Sam Maurer, Nov 2018\n",
    "\n",
    "Launch the mongodb server first:  \n",
    "`mongod --dbpath ~/mongodb-data`\n",
    "\n",
    "https://api.mongodb.com/python/current/api/pymongo/index.html  \n",
    "https://docs.mongodb.com/manual/reference/operator/aggregation-pipeline/"
   ]
  },
  {
   "cell_type": "code",
   "execution_count": 1,
   "metadata": {},
   "outputs": [],
   "source": [
    "import numpy as np\n",
    "import pandas as pd\n",
    "import pymongo\n",
    "\n",
    "import datetime\n",
    "import os"
   ]
  },
  {
   "cell_type": "code",
   "execution_count": 2,
   "metadata": {},
   "outputs": [],
   "source": [
    "%matplotlib inline"
   ]
  },
  {
   "cell_type": "code",
   "execution_count": 3,
   "metadata": {},
   "outputs": [
    {
     "name": "stdout",
     "output_type": "stream",
     "text": [
      "1.15.4\n",
      "0.23.4\n",
      "3.7.1\n"
     ]
    }
   ],
   "source": [
    "print(np.__version__)\n",
    "print(pd.__version__)\n",
    "print(pymongo.__version__)"
   ]
  },
  {
   "cell_type": "code",
   "execution_count": null,
   "metadata": {},
   "outputs": [],
   "source": []
  },
  {
   "cell_type": "markdown",
   "metadata": {},
   "source": [
    "### Mongodb connection"
   ]
  },
  {
   "cell_type": "code",
   "execution_count": 6,
   "metadata": {},
   "outputs": [
    {
     "name": "stdout",
     "output_type": "stream",
     "text": [
      "4.0.3\n"
     ]
    }
   ],
   "source": [
    "client = pymongo.MongoClient()\n",
    "print(client.server_info()['version'])"
   ]
  },
  {
   "cell_type": "code",
   "execution_count": 7,
   "metadata": {},
   "outputs": [],
   "source": [
    "db = client.tweets\n",
    "col = db.westcoastmonthly\n",
    "r1 = db.westcoast_monthly_random_10k\n",
    "r2 = db.westcoast_monthly_random_1M"
   ]
  },
  {
   "cell_type": "code",
   "execution_count": 8,
   "metadata": {},
   "outputs": [
    {
     "name": "stdout",
     "output_type": "stream",
     "text": [
      "18000000\n"
     ]
    }
   ],
   "source": [
    "print(col.estimated_document_count())"
   ]
  },
  {
   "cell_type": "code",
   "execution_count": null,
   "metadata": {},
   "outputs": [],
   "source": []
  },
  {
   "cell_type": "markdown",
   "metadata": {},
   "source": [
    "### Figure: rate of posts by month"
   ]
  },
  {
   "cell_type": "code",
   "execution_count": 11,
   "metadata": {},
   "outputs": [
    {
     "name": "stdout",
     "output_type": "stream",
     "text": [
      "CPU times: user 2.21 ms, sys: 1.53 ms, total: 3.74 ms\n",
      "Wall time: 4.04 s\n"
     ]
    }
   ],
   "source": [
    "%%time\n",
    "c = list(r2.aggregate([\n",
    "    {\"$addFields\": {\"_dt\": {\"$toDate\": {\"$toLong\": \"$timestamp_ms\"}}}}, \n",
    "    {\"$group\": {\"_id\": {\"y\": {\"$year\": \"$_dt\"}, \"m\": {\"$month\": \"$_dt\"}}, \n",
    "                \"maxTimestamp\": {\"$max\": \"$_dt\"},\n",
    "                \"minTimestamp\": {\"$min\": \"$_dt\"}}},\n",
    "    {\"$addFields\": {\"value\": {\"$divide\": [500000, \n",
    "                        {\"$subtract\": [\"$maxTimestamp\", \"$minTimestamp\"]}]}}}]))"
   ]
  },
  {
   "cell_type": "code",
   "execution_count": 12,
   "metadata": {},
   "outputs": [
    {
     "data": {
      "text/plain": [
       "<matplotlib.axes._subplots.AxesSubplot at 0x11bc48ef0>"
      ]
     },
     "execution_count": 12,
     "metadata": {},
     "output_type": "execute_result"
    },
    {
     "data": {
      "image/png": "[encoded data removed]",
      "text/plain": [
       "<Figure size 1080x360 with 1 Axes>"
      ]
     },
     "metadata": {
      "needs_background": "light"
     },
     "output_type": "display_data"
    }
   ],
   "source": [
    "ym, value = ([], [])\n",
    "\n",
    "for doc in c:\n",
    "    ym.append(str(doc['_id']['y']) + '-' + str(doc['_id']['m']).zfill(2))\n",
    "    value.append(doc['value'])\n",
    "\n",
    "df = pd.DataFrame({'ym': ym, 'value': value}).sort_values('ym')\n",
    "df.plot.bar(x='ym', y='value', figsize=(15,5), facecolor='666')"
   ]
  },
  {
   "cell_type": "code",
   "execution_count": null,
   "metadata": {},
   "outputs": [],
   "source": []
  },
  {
   "cell_type": "code",
   "execution_count": null,
   "metadata": {},
   "outputs": [],
   "source": []
  },
  {
   "cell_type": "code",
   "execution_count": null,
   "metadata": {},
   "outputs": [],
   "source": []
  }
 ],
 "metadata": {
  "kernelspec": {
   "display_name": "Python 3",
   "language": "python",
   "name": "python3"
  },
  "language_info": {
   "codemirror_mode": {
    "name": "ipython",
    "version": 3
   },
   "file_extension": ".py",
   "mimetype": "text/x-python",
   "name": "python",
   "nbconvert_exporter": "python",
   "pygments_lexer": "ipython3",
   "version": "3.6.7"
  }
 },
 "nbformat": 4,
 "nbformat_minor": 2
}
