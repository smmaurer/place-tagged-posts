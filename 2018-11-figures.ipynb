{
 "cells": [
  {
   "cell_type": "markdown",
   "metadata": {},
   "source": [
    "# Figures for paper\n",
    "\n",
    "Sam Maurer, Nov 2018\n",
    "\n",
    "Launch the mongodb server first:  \n",
    "`mongod --dbpath ~/mongodb-data`\n",
    "\n",
    "https://api.mongodb.com/python/current/api/pymongo/index.html  \n",
    "https://docs.mongodb.com/manual/reference/operator/aggregation-pipeline/"
   ]
  },
  {
   "cell_type": "code",
   "execution_count": 13,
   "metadata": {},
   "outputs": [],
   "source": [
    "%matplotlib inline\n",
    "import matplotlib\n",
    "import matplotlib.pyplot as plt\n",
    "import numpy as np\n",
    "import pandas as pd\n",
    "import pymongo\n",
    "\n",
    "import datetime\n",
    "import os"
   ]
  },
  {
   "cell_type": "code",
   "execution_count": 14,
   "metadata": {},
   "outputs": [
    {
     "name": "stdout",
     "output_type": "stream",
     "text": [
      "1.15.2\n",
      "0.23.4\n",
      "2.2.3\n",
      "3.7.1\n"
     ]
    }
   ],
   "source": [
    "print(np.__version__)\n",
    "print(pd.__version__)\n",
    "print(matplotlib.__version__)\n",
    "print(pymongo.__version__)"
   ]
  },
  {
   "cell_type": "code",
   "execution_count": null,
   "metadata": {},
   "outputs": [],
   "source": []
  },
  {
   "cell_type": "markdown",
   "metadata": {},
   "source": [
    "### Mongodb connection"
   ]
  },
  {
   "cell_type": "code",
   "execution_count": 4,
   "metadata": {},
   "outputs": [
    {
     "name": "stdout",
     "output_type": "stream",
     "text": [
      "4.0.3\n"
     ]
    }
   ],
   "source": [
    "client = pymongo.MongoClient()\n",
    "print(client.server_info()['version'])"
   ]
  },
  {
   "cell_type": "code",
   "execution_count": 5,
   "metadata": {},
   "outputs": [],
   "source": [
    "db = client.tweets\n",
    "col = db.westcoastmonthly\n",
    "r1 = db.westcoast_monthly_random_10k\n",
    "r2 = db.westcoast_monthly_random_1M"
   ]
  },
  {
   "cell_type": "code",
   "execution_count": 6,
   "metadata": {},
   "outputs": [
    {
     "name": "stdout",
     "output_type": "stream",
     "text": [
      "18000000\n"
     ]
    }
   ],
   "source": [
    "print(col.estimated_document_count())"
   ]
  },
  {
   "cell_type": "code",
   "execution_count": null,
   "metadata": {},
   "outputs": [],
   "source": []
  },
  {
   "cell_type": "markdown",
   "metadata": {},
   "source": [
    "### Figure: rate of posts by month"
   ]
  },
  {
   "cell_type": "code",
   "execution_count": 120,
   "metadata": {},
   "outputs": [
    {
     "name": "stdout",
     "output_type": "stream",
     "text": [
      "CPU times: user 58.7 ms, sys: 20.8 ms, total: 79.4 ms\n",
      "Wall time: 4min 50s\n"
     ]
    }
   ],
   "source": [
    "%%time\n",
    "\n",
    "n_tweets = 500000\n",
    "ms_to_hrs = 1000*60*60\n",
    "\n",
    "c1 = list(col.aggregate([\n",
    "    {\"$addFields\": {\"_dt\": {\"$toDate\": {\"$toLong\": \"$timestamp_ms\"}}}}, \n",
    "    {\"$group\": {\"_id\": {\"y\": {\"$year\": \"$_dt\"}, \"m\": {\"$month\": \"$_dt\"}}, \n",
    "                \"maxTimestamp\": {\"$max\": \"$_dt\"},\n",
    "                \"minTimestamp\": {\"$min\": \"$_dt\"}}},\n",
    "    {\"$addFields\": {\"value\": {\"$divide\": [n_tweets * ms_to_hrs, \n",
    "                        {\"$subtract\": [\"$maxTimestamp\", \"$minTimestamp\"]}]}}}]))"
   ]
  },
  {
   "cell_type": "code",
   "execution_count": 121,
   "metadata": {},
   "outputs": [
    {
     "data": {
      "image/png": "[encoded data removed]",
      "text/plain": [
       "<Figure size 864x360 with 1 Axes>"
      ]
     },
     "metadata": {
      "needs_background": "light"
     },
     "output_type": "display_data"
    }
   ],
   "source": [
    "ym, value = ([], [])\n",
    "\n",
    "for doc in c1:\n",
    "    if doc['_id']['y'] is not None:\n",
    "        ym.append(str(doc['_id']['y']) + '-' + str(doc['_id']['m']).zfill(2))\n",
    "        value.append(doc['value'])\n",
    "\n",
    "df = pd.DataFrame({'ym': ym, 'value': value}).sort_values('ym')\n",
    "\n",
    "fig, ax = plt.subplots(figsize=(12,5))\n",
    "df.plot.bar(x='ym', y='value', width=0.7, ax=ax, facecolor=(0.3,0.3,0.3))\n",
    "\n",
    "plt.title('Place-tagged Twitter posts per hour in study area')\n",
    "ax.legend('')\n",
    "ax.set_xlabel('')\n",
    "\n",
    "ax.get_yaxis().set_major_formatter(\n",
    "    matplotlib.ticker.FuncFormatter(lambda x, p: format(int(x), ',')))\n",
    "\n",
    "plt.tight_layout()\n",
    "plt.show()"
   ]
  },
  {
   "cell_type": "code",
   "execution_count": 122,
   "metadata": {},
   "outputs": [],
   "source": [
    "fig.savefig('output/fig-post-volume.pdf')"
   ]
  },
  {
   "cell_type": "code",
   "execution_count": null,
   "metadata": {},
   "outputs": [],
   "source": []
  },
  {
   "cell_type": "markdown",
   "metadata": {},
   "source": [
    "### Figure: GPS tag quality"
   ]
  },
  {
   "cell_type": "code",
   "execution_count": 52,
   "metadata": {},
   "outputs": [],
   "source": [
    "def to_lists(c):\n",
    "    ym, value = ([], [])\n",
    "    for doc in c:\n",
    "        if doc['_id']['y'] is not None:\n",
    "            ym.append(str(doc['_id']['y']) + '-' + str(doc['_id']['m']).zfill(2))\n",
    "            value.append(doc['value'])\n",
    "    return ym, value"
   ]
  },
  {
   "cell_type": "code",
   "execution_count": 112,
   "metadata": {},
   "outputs": [],
   "source": [
    "def match(d):\n",
    "    c = list(col.aggregate([\n",
    "    {\"$match\": d},\n",
    "    {\"$addFields\": {\"_dt\": {\"$toDate\": {\"$toLong\": \"$timestamp_ms\"}}}}, \n",
    "    {\"$group\": {\"_id\": {\"y\": {\"$year\": \"$_dt\"}, \"m\": {\"$month\": \"$_dt\"}}, \n",
    "                \"value\": {\"$sum\": 1}}}]))\n",
    "    return c"
   ]
  },
  {
   "cell_type": "code",
   "execution_count": 113,
   "metadata": {},
   "outputs": [
    {
     "name": "stdout",
     "output_type": "stream",
     "text": [
      "CPU times: user 51.3 ms, sys: 22 ms, total: 73.3 ms\n",
      "Wall time: 4min 8s\n"
     ]
    }
   ],
   "source": [
    "%%time\n",
    "c = match({\"geo\": {\"$ne\": None}})\n",
    "ym, value = to_lists(c)\n",
    "df1 = pd.DataFrame({'ym': ym, 'all': value}).sort_values('ym').set_index('ym')"
   ]
  },
  {
   "cell_type": "code",
   "execution_count": 114,
   "metadata": {},
   "outputs": [
    {
     "name": "stdout",
     "output_type": "stream",
     "text": [
      "CPU times: user 47.4 ms, sys: 23.8 ms, total: 71.3 ms\n",
      "Wall time: 3min 47s\n"
     ]
    }
   ],
   "source": [
    "%%time\n",
    "c = match({\"$and\": [{\"geo\": {\"$ne\": None}}, {\"source\": {\"$regex\" : \".*>Twitter .*\"}}]})\n",
    "ym, value = to_lists(c)\n",
    "df2 = pd.DataFrame({'ym': ym, 'twitter': value}).sort_values('ym').set_index('ym')"
   ]
  },
  {
   "cell_type": "code",
   "execution_count": 115,
   "metadata": {},
   "outputs": [
    {
     "name": "stdout",
     "output_type": "stream",
     "text": [
      "CPU times: user 54.8 ms, sys: 26.2 ms, total: 81 ms\n",
      "Wall time: 4min 13s\n"
     ]
    }
   ],
   "source": [
    "%%time\n",
    "c = match({\"$and\": [{\"geo\": {\"$ne\": None}}, {\"source\": {\"$regex\" : \".*>Instagram<.*\"}}]})\n",
    "ym, value = to_lists(c)\n",
    "df3 = pd.DataFrame({'ym': ym, 'instagram': value}).sort_values('ym').set_index('ym')"
   ]
  },
  {
   "cell_type": "code",
   "execution_count": 116,
   "metadata": {},
   "outputs": [
    {
     "name": "stdout",
     "output_type": "stream",
     "text": [
      "CPU times: user 58.3 ms, sys: 32.1 ms, total: 90.4 ms\n",
      "Wall time: 4min 14s\n"
     ]
    }
   ],
   "source": [
    "%%time\n",
    "c = match({\"$and\": [{\"geo\": {\"$ne\": None}}, {\"source\": {\"$regex\" : \".*>Foursquare<.*\"}}]})\n",
    "ym, value = to_lists(c)\n",
    "df4 = pd.DataFrame({'ym': ym, 'foursquare': value}).sort_values('ym').set_index('ym')"
   ]
  },
  {
   "cell_type": "code",
   "execution_count": 124,
   "metadata": {},
   "outputs": [
    {
     "name": "stdout",
     "output_type": "stream",
     "text": [
      "            all  twitter  instagram  foursquare  instasquare    other\n",
      "ym                                                                   \n",
      "2015-10   65119     8649    31708.0        5149      36857.0  19613.0\n",
      "2015-11   64762     7168    25458.0        3602      29060.0  28534.0\n",
      "2015-12   58158     5372    20940.0        3293      24233.0  28553.0\n",
      "2016-01   66202     4430    29725.0        5063      34788.0  26984.0\n",
      "2016-02   59372     4743    22713.0        3408      26121.0  28508.0\n",
      "2016-03   62292     3297    23997.0        3815      27812.0  31183.0\n",
      "2016-04   70516     2836    36051.0        5200      41251.0  26429.0\n",
      "2016-05   64368     2362    31776.0        4108      35884.0  26122.0\n",
      "2016-06   53827     1822    23275.0        2932      26207.0  25798.0\n",
      "2016-07   66891     1814    34871.0        4863      39734.0  25343.0\n",
      "2016-08   51408     1066    24440.0        3268      27708.0  22634.0\n",
      "2016-09   62995     1396    30235.0        4383      34618.0  26981.0\n",
      "2016-10   78244     1075    39398.0        4751      44149.0  33020.0\n",
      "2016-11   62190      859    26367.0        3422      29789.0  31542.0\n",
      "2016-12   66350      891    30093.0        3762      33855.0  31604.0\n",
      "2017-01   61356     1216    28109.0        3569      31678.0  28462.0\n",
      "2017-02   73788      943    31912.0        3308      35220.0  37625.0\n",
      "2017-03   76349     1118    33750.0        3755      37505.0  37726.0\n",
      "2017-04  103637     1074    53553.0        5555      59108.0  43455.0\n",
      "2017-05   81188      859    37808.0        4076      41884.0  38445.0\n",
      "2017-06   80428      798    39781.0        4223      44004.0  35626.0\n",
      "2017-07   90093      689    44425.0        4606      49031.0  40373.0\n",
      "2017-08   76306      530    35341.0        3586      38927.0  36849.0\n",
      "2017-09   82345      607    43284.0        4818      48102.0  33636.0\n",
      "2017-10   72976      541    34228.0        3620      37848.0  34587.0\n",
      "2017-11   68809      596    33671.0        3390      37061.0  31152.0\n",
      "2017-12   88092      425    41973.0        4047      46020.0  41647.0\n",
      "2018-01   63953      318    27543.0        2720      30263.0  33372.0\n",
      "2018-02   75096      370    35367.0        3776      39143.0  35583.0\n",
      "2018-03   66081      304    33015.0        3039      36054.0  29723.0\n",
      "2018-04   61525      266    30286.0        2665      32951.0  28308.0\n",
      "2018-05   56746      241    30847.0        2730      33577.0  22928.0\n",
      "2018-06   32439      255        NaN        3621          NaN      NaN\n",
      "2018-07   54433      227    28273.0        2705      30978.0  23228.0\n",
      "2018-08   53824      244    28586.0        2491      31077.0  22503.0\n",
      "2018-09   67553      224    36454.0        3119      39573.0  27756.0\n"
     ]
    }
   ],
   "source": [
    "df = df1.join([df2, df3, df4])\n",
    "df['instasquare'] = df.instagram + df.foursquare\n",
    "df['other'] = df['all'] - (df.twitter + df.instagram + df.foursquare)\n",
    "print(df)"
   ]
  },
  {
   "cell_type": "code",
   "execution_count": 127,
   "metadata": {},
   "outputs": [
    {
     "data": {
      "image/png": "[encoded data removed]",
      "text/plain": [
       "<Figure size 864x360 with 1 Axes>"
      ]
     },
     "metadata": {
      "needs_background": "light"
     },
     "output_type": "display_data"
    }
   ],
   "source": [
    "fig, ax = plt.subplots(figsize=(12,5))\n",
    "width = 0.7\n",
    "\n",
    "p1 = plt.bar(df.index, df.twitter, width, color=(0,0,0))\n",
    "p2 = plt.bar(df.index, df.instasquare, width, bottom=df.twitter, color=(0.4,0.4,0.4))\n",
    "p3 = plt.bar(df.index, df.other, width, bottom=df.twitter+df.instasquare, color=(0.7,0.7,0.7))\n",
    "\n",
    "#df.plot.bar(x='ym', y='value', ax=ax, facecolor='black')\n",
    "\n",
    "plt.title('Twitter posts ostensibly tagged with GPS coordinates')\n",
    "ax.legend('')\n",
    "ax.set_xlabel('')\n",
    "plt.xticks(rotation='vertical')\n",
    "\n",
    "ax.get_yaxis().set_major_formatter(\n",
    "    matplotlib.ticker.FuncFormatter(lambda x, p: format(int(x), ',')))\n",
    "\n",
    "ax.legend((p1[0], p2[0], p3[0]), \n",
    "          ('From Twitter clients: true GPS tags', \n",
    "           'From Instagram and Foursquare: named place centroids',\n",
    "           'Other sources: primarily bots'))\n",
    "\n",
    "plt.tight_layout()\n",
    "plt.show()"
   ]
  },
  {
   "cell_type": "code",
   "execution_count": 128,
   "metadata": {},
   "outputs": [],
   "source": [
    "fig.savefig('output/fig-gps-tags.pdf')"
   ]
  },
  {
   "cell_type": "code",
   "execution_count": null,
   "metadata": {},
   "outputs": [],
   "source": []
  },
  {
   "cell_type": "code",
   "execution_count": null,
   "metadata": {},
   "outputs": [],
   "source": []
  },
  {
   "cell_type": "code",
   "execution_count": null,
   "metadata": {},
   "outputs": [],
   "source": []
  }
 ],
 "metadata": {
  "kernelspec": {
   "display_name": "Python 3",
   "language": "python",
   "name": "python3"
  },
  "language_info": {
   "codemirror_mode": {
    "name": "ipython",
    "version": 3
   },
   "file_extension": ".py",
   "mimetype": "text/x-python",
   "name": "python",
   "nbconvert_exporter": "python",
   "pygments_lexer": "ipython3",
   "version": "3.6.6"
  }
 },
 "nbformat": 4,
 "nbformat_minor": 2
}
