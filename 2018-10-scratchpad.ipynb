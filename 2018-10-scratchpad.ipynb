{
 "cells": [
  {
   "cell_type": "markdown",
   "metadata": {},
   "source": [
    "# Mongodb scratchpad\n",
    "\n",
    "Sam Maurer, October 2018\n",
    "\n",
    "Make sure to launch the mongodb server first:  \n",
    "`mongod --dbpath ~/mongodb-data`\n",
    "\n",
    "https://api.mongodb.com/python/current/api/pymongo/index.html  \n",
    "https://docs.mongodb.com/manual/reference/operator/aggregation-pipeline/"
   ]
  },
  {
   "cell_type": "code",
   "execution_count": 1,
   "metadata": {},
   "outputs": [],
   "source": [
    "import numpy as np\n",
    "import pandas as pd\n",
    "import pymongo\n",
    "\n",
    "import datetime\n",
    "import os"
   ]
  },
  {
   "cell_type": "code",
   "execution_count": 2,
   "metadata": {},
   "outputs": [],
   "source": [
    "%matplotlib inline"
   ]
  },
  {
   "cell_type": "code",
   "execution_count": 3,
   "metadata": {},
   "outputs": [
    {
     "name": "stdout",
     "output_type": "stream",
     "text": [
      "1.15.2\n",
      "0.23.4\n",
      "3.7.1\n"
     ]
    }
   ],
   "source": [
    "print(np.__version__)\n",
    "print(pd.__version__)\n",
    "print(pymongo.__version__)"
   ]
  },
  {
   "cell_type": "code",
   "execution_count": null,
   "metadata": {},
   "outputs": [],
   "source": []
  },
  {
   "cell_type": "markdown",
   "metadata": {},
   "source": [
    "### Mongo connection"
   ]
  },
  {
   "cell_type": "code",
   "execution_count": 4,
   "metadata": {},
   "outputs": [],
   "source": [
    "client = pymongo.MongoClient()"
   ]
  },
  {
   "cell_type": "code",
   "execution_count": 5,
   "metadata": {},
   "outputs": [
    {
     "name": "stdout",
     "output_type": "stream",
     "text": [
      "4.0.3\n"
     ]
    }
   ],
   "source": [
    "print(client.server_info()['version'])"
   ]
  },
  {
   "cell_type": "code",
   "execution_count": 6,
   "metadata": {},
   "outputs": [],
   "source": [
    "db = client.tweets\n",
    "col = db.westcoastmonthly\n",
    "r1 = db.westcoast_monthly_random_10k\n",
    "r2 = db.westcoast_monthly_random_1M"
   ]
  },
  {
   "cell_type": "code",
   "execution_count": 4,
   "metadata": {},
   "outputs": [
    {
     "data": {
      "text/plain": [
       "18000000"
      ]
     },
     "execution_count": 4,
     "metadata": {},
     "output_type": "execute_result"
    }
   ],
   "source": [
    "col.count_documents({})"
   ]
  },
  {
   "cell_type": "code",
   "execution_count": null,
   "metadata": {},
   "outputs": [],
   "source": []
  },
  {
   "cell_type": "markdown",
   "metadata": {},
   "source": [
    "### Mongo operations"
   ]
  },
  {
   "cell_type": "code",
   "execution_count": 5,
   "metadata": {
    "scrolled": true
   },
   "outputs": [
    {
     "data": {
      "text/plain": [
       "{'_id': ObjectId('5bc7b5dc6bbd390c66cde84e'),\n",
       " 'contributors': None,\n",
       " 'truncated': False,\n",
       " 'text': \"I can't click on digital representations of video clips any more. 🔪📼🖱🚨\",\n",
       " 'is_quote_status': False,\n",
       " 'in_reply_to_status_id': None,\n",
       " 'id': 738194571331391489,\n",
       " 'favorite_count': 0,\n",
       " 'source': '<a href=\"http://twitter.com/download/iphone\" rel=\"nofollow\">Twitter for iPhone</a>',\n",
       " 'retweeted': False,\n",
       " 'coordinates': None,\n",
       " 'timestamp_ms': '1464834275454',\n",
       " 'entities': {'user_mentions': [], 'symbols': [], 'hashtags': [], 'urls': []},\n",
       " 'in_reply_to_screen_name': None,\n",
       " 'id_str': '738194571331391489',\n",
       " 'retweet_count': 0,\n",
       " 'in_reply_to_user_id': None,\n",
       " 'favorited': False,\n",
       " 'user': {'follow_request_sent': None,\n",
       "  'profile_use_background_image': True,\n",
       "  'default_profile_image': False,\n",
       "  'id': 18794420,\n",
       "  'verified': False,\n",
       "  'profile_image_url_https': 'https://pbs.twimg.com/profile_images/569268765926240256/_t9_8eIa_normal.png',\n",
       "  'profile_sidebar_fill_color': '000000',\n",
       "  'profile_text_color': 'FFF291',\n",
       "  'followers_count': 1106,\n",
       "  'profile_sidebar_border_color': 'FFFFFF',\n",
       "  'id_str': '18794420',\n",
       "  'profile_background_color': 'E0E0E0',\n",
       "  'listed_count': 21,\n",
       "  'profile_background_image_url_https': 'https://pbs.twimg.com/profile_background_images/629012593533849600/Xw_E97Vy.jpg',\n",
       "  'utc_offset': -25200,\n",
       "  'statuses_count': 16482,\n",
       "  'description': \"WEVA Weather Girl reporting LIVE from the Dusk Side. Don't make me have to wet u up. Or dry u down. Or damp u in the middle. #deadhead 4 life\",\n",
       "  'friends_count': 491,\n",
       "  'location': 'Sun Valley, Los Angeles',\n",
       "  'profile_link_color': 'ABB8C2',\n",
       "  'profile_image_url': 'http://pbs.twimg.com/profile_images/569268765926240256/_t9_8eIa_normal.png',\n",
       "  'following': None,\n",
       "  'geo_enabled': True,\n",
       "  'profile_banner_url': 'https://pbs.twimg.com/profile_banners/18794420/1445809654',\n",
       "  'profile_background_image_url': 'http://pbs.twimg.com/profile_background_images/629012593533849600/Xw_E97Vy.jpg',\n",
       "  'name': 'WEATHER GIRL',\n",
       "  'lang': 'en',\n",
       "  'profile_background_tile': True,\n",
       "  'favourites_count': 10153,\n",
       "  'screen_name': 'WEVAchannel4',\n",
       "  'notifications': None,\n",
       "  'url': 'https://www.youtube.com/CRYSTALFALLZ',\n",
       "  'created_at': 'Fri Jan 09 06:22:51 +0000 2009',\n",
       "  'contributors_enabled': False,\n",
       "  'time_zone': 'Pacific Time (US & Canada)',\n",
       "  'protected': False,\n",
       "  'default_profile': False,\n",
       "  'is_translator': False},\n",
       " 'geo': None,\n",
       " 'in_reply_to_user_id_str': None,\n",
       " 'lang': 'en',\n",
       " 'created_at': 'Thu Jun 02 02:24:35 +0000 2016',\n",
       " 'filter_level': 'low',\n",
       " 'in_reply_to_status_id_str': None,\n",
       " 'place': {'full_name': 'Burbank, CA',\n",
       "  'url': 'https://api.twitter.com/1.1/geo/id/b0b79caecef59fb5.json',\n",
       "  'country': 'United States',\n",
       "  'place_type': 'city',\n",
       "  'bounding_box': {'type': 'Polygon',\n",
       "   'coordinates': [[[-118.37032, 34.14263],\n",
       "     [-118.37032, 34.22169],\n",
       "     [-118.27997, 34.22169],\n",
       "     [-118.27997, 34.14263]]]},\n",
       "  'country_code': 'US',\n",
       "  'attributes': {},\n",
       "  'id': 'b0b79caecef59fb5',\n",
       "  'name': 'Burbank'}}"
      ]
     },
     "execution_count": 5,
     "metadata": {},
     "output_type": "execute_result"
    }
   ],
   "source": [
    "col.find_one({})"
   ]
  },
  {
   "cell_type": "code",
   "execution_count": 25,
   "metadata": {
    "scrolled": true
   },
   "outputs": [
    {
     "name": "stdout",
     "output_type": "stream",
     "text": [
      "{'_id': {'lang': 'hr'}, 'count': 63}\n",
      "{'_id': {'lang': 'sk'}, 'count': 136}\n",
      "{'_id': {'lang': 'ca'}, 'count': 288}\n",
      "{'_id': {'lang': 'lo'}, 'count': 5}\n",
      "{'_id': {'lang': 'or'}, 'count': 94}\n",
      "{'_id': {'lang': 'am'}, 'count': 57}\n",
      "{'_id': {'lang': 'te'}, 'count': 9}\n",
      "{'_id': {'lang': 'ml'}, 'count': 2}\n",
      "{'_id': {'lang': 'kn'}, 'count': 42}\n",
      "{'_id': {'lang': 'sd'}, 'count': 1}\n",
      "{'_id': {'lang': 'bn'}, 'count': 14}\n",
      "{'_id': {'lang': 'my'}, 'count': 12}\n",
      "{'_id': {'lang': 'mr'}, 'count': 4}\n",
      "{'_id': {'lang': 'hy'}, 'count': 25}\n",
      "{'_id': {'lang': 'el'}, 'count': 72}\n",
      "{'_id': {'lang': 'ta'}, 'count': 59}\n",
      "{'_id': {'lang': 'pl'}, 'count': 6241}\n",
      "{'_id': {'lang': 'sr'}, 'count': 76}\n",
      "{'_id': {'lang': 'ne'}, 'count': 99}\n",
      "{'_id': {'lang': 'nl'}, 'count': 8601}\n",
      "{'_id': {'lang': 'ur'}, 'count': 408}\n",
      "{'_id': {'lang': 'ko'}, 'count': 5390}\n",
      "{'_id': {'lang': 'lt'}, 'count': 1935}\n",
      "{'_id': {'lang': 'zh'}, 'count': 5304}\n",
      "{'_id': {'lang': 'bg'}, 'count': 187}\n",
      "{'_id': {'lang': 'is'}, 'count': 2048}\n",
      "{'_id': {'lang': 'hu'}, 'count': 1677}\n",
      "{'_id': {'lang': 'bs'}, 'count': 102}\n",
      "{'_id': {'lang': 'gu'}, 'count': 8}\n",
      "{'_id': {'lang': 'hi'}, 'count': 2718}\n",
      "{'_id': {'lang': 'si'}, 'count': 1}\n",
      "{'_id': {'lang': 'lv'}, 'count': 1906}\n",
      "{'_id': {'lang': 'no'}, 'count': 3799}\n",
      "{'_id': {'lang': 'da'}, 'count': 5041}\n",
      "{'_id': {'lang': 'km'}, 'count': 2}\n",
      "{'_id': {'lang': 'vi'}, 'count': 706}\n",
      "{'_id': {'lang': 'eu'}, 'count': 2179}\n",
      "{'_id': {'lang': 'ro'}, 'count': 3747}\n",
      "{'_id': {'lang': 'uk'}, 'count': 481}\n",
      "{'_id': {'lang': 'iw'}, 'count': 298}\n",
      "{'_id': {'lang': 'fr'}, 'count': 32797}\n",
      "{'_id': {'lang': 'et'}, 'count': 11502}\n",
      "{'_id': {'lang': 'fi'}, 'count': 5026}\n",
      "{'_id': {'lang': None}, 'count': 32}\n",
      "{'_id': {'lang': 'cy'}, 'count': 4209}\n",
      "{'_id': {'lang': 'th'}, 'count': 4033}\n",
      "{'_id': {'lang': 'es'}, 'count': 188037}\n",
      "{'_id': {'lang': 'pt'}, 'count': 28607}\n",
      "{'_id': {'lang': 'sv'}, 'count': 5298}\n",
      "{'_id': {'lang': 'cs'}, 'count': 1773}\n",
      "{'_id': {'lang': 'fa'}, 'count': 5162}\n",
      "{'_id': {'lang': 'sl'}, 'count': 760}\n",
      "{'_id': {'lang': 'in'}, 'count': 27585}\n",
      "{'_id': {'lang': 'it'}, 'count': 14167}\n",
      "{'_id': {'lang': 'ru'}, 'count': 5844}\n",
      "{'_id': {'lang': 'de'}, 'count': 10354}\n",
      "{'_id': {'lang': 'ja'}, 'count': 25246}\n",
      "{'_id': {'lang': 'ka'}, 'count': 1}\n",
      "{'_id': {'lang': 'und'}, 'count': 716060}\n",
      "{'_id': {'lang': 'pa'}, 'count': 41}\n",
      "{'_id': {'lang': 'ps'}, 'count': 2}\n",
      "{'_id': {'lang': 'tl'}, 'count': 58229}\n",
      "{'_id': {'lang': 'tr'}, 'count': 8238}\n",
      "{'_id': {'lang': 'ar'}, 'count': 18032}\n",
      "{'_id': {'lang': 'ht'}, 'count': 22755}\n",
      "{'_id': {'lang': 'en'}, 'count': 7252373}\n",
      "CPU times: user 20.5 ms, sys: 8.82 ms, total: 29.3 ms\n",
      "Wall time: 1min 32s\n"
     ]
    }
   ],
   "source": [
    "%%time\n",
    "c = col.aggregate([{\"$group\": {\"_id\": {\"lang\": \"$lang\"}, \"count\": {\"$sum\": 1}}}])\n",
    "for doc in c:\n",
    "    print(doc)"
   ]
  },
  {
   "cell_type": "code",
   "execution_count": 56,
   "metadata": {},
   "outputs": [
    {
     "name": "stdout",
     "output_type": "stream",
     "text": [
      "CPU times: user 48.9 ms, sys: 16.5 ms, total: 65.4 ms\n",
      "Wall time: 4min\n"
     ]
    }
   ],
   "source": [
    "%%time\n",
    "c = list(col.aggregate([{\"$sortByCount\": \"$lang\"}, {\"$limit\": 10}]))"
   ]
  },
  {
   "cell_type": "code",
   "execution_count": 59,
   "metadata": {},
   "outputs": [
    {
     "name": "stdout",
     "output_type": "stream",
     "text": [
      "en: 15367971 (85.4%)\n",
      "und: 1515231 (8.4%)\n",
      "es: 397040 (2.2%)\n",
      "tl: 116017 (0.6%)\n",
      "fr: 69486 (0.4%)\n",
      "pt: 60277 (0.3%)\n",
      "in: 56202 (0.3%)\n",
      "ja: 54375 (0.3%)\n",
      "ht: 47763 (0.3%)\n",
      "ar: 40893 (0.2%)\n"
     ]
    }
   ],
   "source": [
    "total = col.estimated_document_count()\n",
    "\n",
    "for doc in c:\n",
    "    print(\"{}: {} ({}%)\".format(doc['_id'], doc['count'], round(100*doc['count']/total, 1)))"
   ]
  },
  {
   "cell_type": "code",
   "execution_count": 6,
   "metadata": {},
   "outputs": [
    {
     "name": "stdout",
     "output_type": "stream",
     "text": [
      "[{'_id': 'en', 'count': 846}, {'_id': 'und', 'count': 101}, {'_id': 'es', 'count': 19}, {'_id': 'tl', 'count': 8}, {'_id': 'ht', 'count': 7}, {'_id': 'pt', 'count': 4}, {'_id': 'ja', 'count': 3}, {'_id': 'ar', 'count': 2}, {'_id': 'it', 'count': 2}, {'_id': 'in', 'count': 2}]\n",
      "CPU times: user 2.06 ms, sys: 1.26 ms, total: 3.32 ms\n",
      "Wall time: 5.93 s\n"
     ]
    }
   ],
   "source": [
    "%%time\n",
    "c = list(col.aggregate([\n",
    "    {\"$sample\": {\"size\": 1000}}, \n",
    "    {\"$sortByCount\": \"$lang\"}, \n",
    "    {\"$limit\": 10}]))\n",
    "print(c)"
   ]
  },
  {
   "cell_type": "code",
   "execution_count": 11,
   "metadata": {},
   "outputs": [
    {
     "name": "stdout",
     "output_type": "stream",
     "text": [
      "[]\n",
      "CPU times: user 2.08 ms, sys: 2.34 ms, total: 4.42 ms\n",
      "Wall time: 3.6 s\n"
     ]
    }
   ],
   "source": [
    "%%time\n",
    "c = list(col.aggregate([\n",
    "    {\"$sample\": {\"size\": 10000}}, \n",
    "    {\"$out\": \"westcoast_monthly_random_10k\"}]))\n",
    "print(c)"
   ]
  },
  {
   "cell_type": "code",
   "execution_count": 15,
   "metadata": {},
   "outputs": [
    {
     "data": {
      "text/plain": [
       "['westcoastmonthly',\n",
       " 'westcoast_monthly_random_10k',\n",
       " 'westcoast_sample_random_10k']"
      ]
     },
     "execution_count": 15,
     "metadata": {},
     "output_type": "execute_result"
    }
   ],
   "source": [
    "db.list_collection_names()"
   ]
  },
  {
   "cell_type": "code",
   "execution_count": 16,
   "metadata": {},
   "outputs": [
    {
     "data": {
      "text/plain": [
       "{'ns': 'tweets.westcoast_sample_random_10k', 'nIndexesWas': 1, 'ok': 1.0}"
      ]
     },
     "execution_count": 16,
     "metadata": {},
     "output_type": "execute_result"
    }
   ],
   "source": [
    "db.drop_collection('westcoast_sample_random_10k')"
   ]
  },
  {
   "cell_type": "code",
   "execution_count": 39,
   "metadata": {},
   "outputs": [
    {
     "name": "stdout",
     "output_type": "stream",
     "text": [
      "[]\n",
      "CPU times: user 398 ms, sys: 133 ms, total: 531 ms\n",
      "Wall time: 17min 57s\n"
     ]
    }
   ],
   "source": [
    "%%time\n",
    "c = list(col.aggregate([\n",
    "    {\"$sample\": {\"size\": 1000000}}, \n",
    "    {\"$out\": \"westcoast_monthly_random_1M\"}],\n",
    "    allowDiskUse = True))\n",
    "print(c)"
   ]
  },
  {
   "cell_type": "code",
   "execution_count": 6,
   "metadata": {},
   "outputs": [
    {
     "name": "stdout",
     "output_type": "stream",
     "text": [
      "[{'_id': 'en', 'count': 8510}, {'_id': 'und', 'count': 832}, {'_id': 'es', 'count': 240}, {'_id': 'tl', 'count': 70}, {'_id': 'fr', 'count': 43}, {'_id': 'in', 'count': 35}, {'_id': 'pt', 'count': 31}, {'_id': 'ht', 'count': 28}, {'_id': 'ja', 'count': 27}, {'_id': 'ar', 'count': 26}]\n",
      "CPU times: user 1.16 ms, sys: 900 µs, total: 2.06 ms\n",
      "Wall time: 126 ms\n"
     ]
    }
   ],
   "source": [
    "%%time\n",
    "c = list(r1.aggregate([\n",
    "    {\"$sortByCount\": \"$lang\"}, \n",
    "    {\"$limit\": 10}]))\n",
    "print(c)"
   ]
  },
  {
   "cell_type": "code",
   "execution_count": 7,
   "metadata": {},
   "outputs": [
    {
     "name": "stdout",
     "output_type": "stream",
     "text": [
      "[{'_id': 2016, 'count': 3396}, {'_id': 2017, 'count': 3304}, {'_id': 2018, 'count': 2573}, {'_id': 2015, 'count': 727}]\n",
      "CPU times: user 1.47 ms, sys: 1.35 ms, total: 2.82 ms\n",
      "Wall time: 39.6 ms\n"
     ]
    }
   ],
   "source": [
    "%%time\n",
    "c = list(r1.aggregate([\n",
    "    {\"$project\": {\"_dt\": {\"$toDate\": {\"$toLong\": \"$timestamp_ms\"}}}}, \n",
    "    {\"$sortByCount\": {\"$year\": \"$_dt\"}}]))\n",
    "print(c)"
   ]
  },
  {
   "cell_type": "code",
   "execution_count": 26,
   "metadata": {},
   "outputs": [
    {
     "name": "stdout",
     "output_type": "stream",
     "text": [
      "[{'_id': ObjectId('5bc7c1a26bbd390c6672acd1'), '_dt': datetime.datetime(2016, 10, 2, 3, 14, 5, 255000)}]\n",
      "CPU times: user 2.45 ms, sys: 1.19 ms, total: 3.64 ms\n",
      "Wall time: 18.7 ms\n"
     ]
    }
   ],
   "source": [
    "%%time\n",
    "c = list(r1.aggregate([\n",
    "    {\"$addFields\": {\"_dt\": {\"$toDate\": {\"$toLong\": \"$timestamp_ms\"}}}}, \n",
    "    {\"$limit\": 1},\n",
    "    {\"$project\": {\"_dt\": True}}]))\n",
    "print(c)"
   ]
  },
  {
   "cell_type": "code",
   "execution_count": 8,
   "metadata": {},
   "outputs": [
    {
     "name": "stdout",
     "output_type": "stream",
     "text": [
      "[{'_id': {'y': None, 'm': None}, 'count': 10}, {'_id': {'y': 2018, 'm': 2}, 'count': 27907}]\n",
      "CPU times: user 5.06 ms, sys: 2.03 ms, total: 7.1 ms\n",
      "Wall time: 18.7 s\n"
     ]
    }
   ],
   "source": [
    "%%time\n",
    "c = list(r2.aggregate([\n",
    "    {\"$addFields\": {\"_dt\": {\"$toDate\": {\"$toLong\": \"$timestamp_ms\"}}}}, \n",
    "    {\"$group\": {\"_id\": {\"y\": {\"$year\": \"$_dt\"}, \"m\": {\"$month\": \"$_dt\"}}, \n",
    "                \"count\": {\"$sum\": 1}}}]))\n",
    "print(c[:2])"
   ]
  },
  {
   "cell_type": "code",
   "execution_count": 11,
   "metadata": {},
   "outputs": [
    {
     "data": {
      "text/plain": [
       "<matplotlib.axes._subplots.AxesSubplot at 0x11f2819e8>"
      ]
     },
     "execution_count": 11,
     "metadata": {},
     "output_type": "execute_result"
    },
    {
     "data": {
      "image/png": "[encoded data removed]",
      "text/plain": [
       "<Figure size 1080x360 with 1 Axes>"
      ]
     },
     "metadata": {
      "needs_background": "light"
     },
     "output_type": "display_data"
    }
   ],
   "source": [
    "ym, count = ([], [])\n",
    "\n",
    "for doc in c:\n",
    "    ym.append(str(doc['_id']['y']) + '-' + str(doc['_id']['m']))\n",
    "    count.append(doc['count'])\n",
    "\n",
    "df = pd.DataFrame({'ym': ym, 'count': count}).sort_values('ym')\n",
    "df.plot.bar(x='ym', y='count', figsize=(15,5), facecolor='666')"
   ]
  },
  {
   "cell_type": "code",
   "execution_count": null,
   "metadata": {},
   "outputs": [],
   "source": []
  },
  {
   "cell_type": "code",
   "execution_count": 9,
   "metadata": {},
   "outputs": [],
   "source": [
    "calif_bbox = {'type':'Polygon','coordinates': [[[-124.48, 42.01], [-124.48, 32.52],\n",
    "[-114.13, 32.52], [-114.13, 42.01], [-124.48, 42.01]]]}"
   ]
  },
  {
   "cell_type": "code",
   "execution_count": 16,
   "metadata": {},
   "outputs": [
    {
     "name": "stdout",
     "output_type": "stream",
     "text": [
      "504604\n",
      "CPU times: user 5.42 ms, sys: 3.06 ms, total: 8.48 ms\n",
      "Wall time: 24.4 s\n"
     ]
    }
   ],
   "source": [
    "%%time\n",
    "print(collection.count_documents({\"coordinates\": {\"$geoWithin\": {\"$geometry\": calif_bbox}}}))"
   ]
  },
  {
   "cell_type": "code",
   "execution_count": null,
   "metadata": {},
   "outputs": [],
   "source": []
  },
  {
   "cell_type": "code",
   "execution_count": 17,
   "metadata": {},
   "outputs": [
    {
     "name": "stdout",
     "output_type": "stream",
     "text": [
      "Twitter for iPhone: 624704\n",
      "Twitter for Android: 138688\n",
      "Twitter Web Client: 81734\n",
      "Instagram: 63172\n",
      "TweetMyJOBS: 30618\n",
      "Tweetbot for iΟS: 9456\n",
      "Twitter for iPad: 8298\n",
      "Foursquare: 7559\n",
      "SafeTweet by TweetMyJOBS: 3931\n",
      "Cities: 3334\n",
      "Tweetbot for Mac: 2546\n",
      "CareerArc 2.0: 2242\n",
      "GeoScrubApp: 2030\n",
      "Untappd: 1767\n",
      "Zorrotron: 1731\n",
      "Collatron: 1101\n",
      "City of Portland 911 feed: 1049\n",
      "dlvr.it: 999\n",
      "Spot Reporters Server: 968\n",
      "Sandaysoft Cumulus: 947\n",
      "CPU times: user 3.17 ms, sys: 1.66 ms, total: 4.83 ms\n",
      "Wall time: 4.21 s\n"
     ]
    }
   ],
   "source": [
    "%%time\n",
    "c = list(r2.aggregate([\n",
    "    {\"$sortByCount\": \"$source\"}, \n",
    "    {\"$limit\": 20}]))\n",
    "\n",
    "for doc in c:\n",
    "    print(doc['_id'].split('>')[1].split('<')[0] + ': ' + str(doc['count']))"
   ]
  },
  {
   "cell_type": "code",
   "execution_count": 33,
   "metadata": {},
   "outputs": [
    {
     "name": "stdout",
     "output_type": "stream",
     "text": [
      "Twitter for iPhone: 624704\n",
      "Twitter for Android: 138688\n",
      "Twitter Web Client: 81734\n",
      "Twitter for iPad: 8298\n",
      "Twitter for  iPhone: 421\n",
      "Twitter for Windows Phone: 223\n",
      "Twitter for Android Tablets: 166\n",
      "Twitter for Mac: 33\n",
      "Twitter Dashboard for iPhone: 29\n",
      "Twitter for BlackBerry: 26\n",
      "CPU times: user 1.68 ms, sys: 1.2 ms, total: 2.88 ms\n",
      "Wall time: 2.38 s\n"
     ]
    }
   ],
   "source": [
    "%%time\n",
    "c = list(r2.aggregate([\n",
    "    {\"$match\": {\"source\": {\"$regex\" : \".*>Twitter .*\"}}},\n",
    "    {\"$sortByCount\": \"$source\"}, \n",
    "    {\"$limit\": 10}]))\n",
    "\n",
    "for doc in c:\n",
    "    print(doc['_id'].split('>')[1].split('<')[0] + ': ' + str(doc['count']))"
   ]
  },
  {
   "cell_type": "code",
   "execution_count": null,
   "metadata": {},
   "outputs": [],
   "source": []
  },
  {
   "cell_type": "markdown",
   "metadata": {},
   "source": [
    "### Plotting function"
   ]
  },
  {
   "cell_type": "code",
   "execution_count": 9,
   "metadata": {},
   "outputs": [],
   "source": [
    "def plot_counts(c):\n",
    "    ym, count = ([], [])\n",
    "\n",
    "    for doc in c:\n",
    "        ym.append(str(doc['_id']['y']) + '-' + str(doc['_id']['m']).zfill(2))\n",
    "        count.append(doc['count'])\n",
    "\n",
    "    df = pd.DataFrame({'ym': ym, 'count': count}).sort_values('ym')\n",
    "    df.plot.bar(x='ym', y='count', figsize=(15,5), facecolor='666')"
   ]
  },
  {
   "cell_type": "code",
   "execution_count": null,
   "metadata": {},
   "outputs": [],
   "source": []
  },
  {
   "cell_type": "code",
   "execution_count": 39,
   "metadata": {},
   "outputs": [
    {
     "name": "stdout",
     "output_type": "stream",
     "text": [
      "CPU times: user 48.1 ms, sys: 2 ms, total: 50.1 ms\n",
      "Wall time: 4.25 s\n"
     ]
    },
    {
     "data": {
      "image/png": "[encoded data removed]",
      "text/plain": [
       "<Figure size 1080x360 with 1 Axes>"
      ]
     },
     "metadata": {
      "needs_background": "light"
     },
     "output_type": "display_data"
    }
   ],
   "source": [
    "%%time\n",
    "c = list(r2.aggregate([\n",
    "    {\"$match\": {\"source\": {\"$regex\" : \".*>Twitter .*\"}}},\n",
    "    {\"$addFields\": {\"_dt\": {\"$toDate\": {\"$toLong\": \"$timestamp_ms\"}}}}, \n",
    "    {\"$group\": {\"_id\": {\"y\": {\"$year\": \"$_dt\"}, \"m\": {\"$month\": \"$_dt\"}}, \n",
    "                \"count\": {\"$sum\": 1}}}]))\n",
    "plot_counts(c)"
   ]
  },
  {
   "cell_type": "code",
   "execution_count": 40,
   "metadata": {},
   "outputs": [
    {
     "name": "stdout",
     "output_type": "stream",
     "text": [
      "CPU times: user 48.5 ms, sys: 1.91 ms, total: 50.4 ms\n",
      "Wall time: 1.89 s\n"
     ]
    },
    {
     "data": {
      "image/png": "[encoded data removed]",
      "text/plain": [
       "<Figure size 1080x360 with 1 Axes>"
      ]
     },
     "metadata": {
      "needs_background": "light"
     },
     "output_type": "display_data"
    }
   ],
   "source": [
    "%%time\n",
    "c = list(r2.aggregate([\n",
    "    {\"$match\": {\"source\": {\"$regex\" : \".*>Tweetbot .*\"}}},\n",
    "    {\"$addFields\": {\"_dt\": {\"$toDate\": {\"$toLong\": \"$timestamp_ms\"}}}}, \n",
    "    {\"$group\": {\"_id\": {\"y\": {\"$year\": \"$_dt\"}, \"m\": {\"$month\": \"$_dt\"}}, \n",
    "                \"count\": {\"$sum\": 1}}}]))\n",
    "plot_counts(c)"
   ]
  },
  {
   "cell_type": "code",
   "execution_count": 41,
   "metadata": {},
   "outputs": [
    {
     "name": "stdout",
     "output_type": "stream",
     "text": [
      "CPU times: user 46.7 ms, sys: 2.15 ms, total: 48.9 ms\n",
      "Wall time: 2.01 s\n"
     ]
    },
    {
     "data": {
      "image/png": "[encoded data removed]",
      "text/plain": [
       "<Figure size 1080x360 with 1 Axes>"
      ]
     },
     "metadata": {
      "needs_background": "light"
     },
     "output_type": "display_data"
    }
   ],
   "source": [
    "%%time\n",
    "c = list(r2.aggregate([\n",
    "    {\"$match\": {\"source\": {\"$regex\" : \".*>Instagram<.*\"}}},\n",
    "    {\"$addFields\": {\"_dt\": {\"$toDate\": {\"$toLong\": \"$timestamp_ms\"}}}}, \n",
    "    {\"$group\": {\"_id\": {\"y\": {\"$year\": \"$_dt\"}, \"m\": {\"$month\": \"$_dt\"}}, \n",
    "                \"count\": {\"$sum\": 1}}}]))\n",
    "plot_counts(c)"
   ]
  },
  {
   "cell_type": "code",
   "execution_count": 42,
   "metadata": {},
   "outputs": [
    {
     "name": "stdout",
     "output_type": "stream",
     "text": [
      "CPU times: user 50.8 ms, sys: 1.89 ms, total: 52.6 ms\n",
      "Wall time: 1.83 s\n"
     ]
    },
    {
     "data": {
      "image/png": "[encoded data removed]",
      "text/plain": [
       "<Figure size 1080x360 with 1 Axes>"
      ]
     },
     "metadata": {
      "needs_background": "light"
     },
     "output_type": "display_data"
    }
   ],
   "source": [
    "%%time\n",
    "c = list(r2.aggregate([\n",
    "    {\"$match\": {\"source\": {\"$regex\" : \".*>Foursquare<.*\"}}},\n",
    "    {\"$addFields\": {\"_dt\": {\"$toDate\": {\"$toLong\": \"$timestamp_ms\"}}}}, \n",
    "    {\"$group\": {\"_id\": {\"y\": {\"$year\": \"$_dt\"}, \"m\": {\"$month\": \"$_dt\"}}, \n",
    "                \"count\": {\"$sum\": 1}}}]))\n",
    "plot_counts(c)"
   ]
  },
  {
   "cell_type": "code",
   "execution_count": null,
   "metadata": {},
   "outputs": [],
   "source": []
  },
  {
   "cell_type": "code",
   "execution_count": 49,
   "metadata": {},
   "outputs": [
    {
     "name": "stdout",
     "output_type": "stream",
     "text": [
      "None\n",
      "None\n",
      "None\n",
      "{'type': 'Point', 'coordinates': [-122.67, 45.63]}\n",
      "None\n",
      "None\n",
      "{'type': 'Point', 'coordinates': [-122.705, 38.4486]}\n",
      "None\n",
      "None\n",
      "None\n",
      "{'type': 'Point', 'coordinates': [-122.7144314, 38.4404674]}\n",
      "None\n",
      "None\n",
      "None\n",
      "{'type': 'Point', 'coordinates': [-113.583, 37.1042]}\n",
      "None\n",
      "None\n",
      "None\n",
      "{'type': 'Point', 'coordinates': [-122.236, 38.113]}\n",
      "None\n",
      "CPU times: user 2.4 ms, sys: 1.4 ms, total: 3.79 ms\n",
      "Wall time: 31.6 ms\n"
     ]
    }
   ],
   "source": [
    "%%time\n",
    "c = list(r2.aggregate([\n",
    "    {\"$project\": {\"coordinates\": True}}, \n",
    "    {\"$limit\": 20}]))\n",
    "\n",
    "for doc in c:\n",
    "    print(doc['coordinates'])"
   ]
  },
  {
   "cell_type": "code",
   "execution_count": 50,
   "metadata": {},
   "outputs": [
    {
     "name": "stdout",
     "output_type": "stream",
     "text": [
      "None\n",
      "None\n",
      "None\n",
      "{'type': 'Point', 'coordinates': [45.63, -122.67]}\n",
      "None\n",
      "None\n",
      "{'type': 'Point', 'coordinates': [38.4486, -122.705]}\n",
      "None\n",
      "None\n",
      "None\n",
      "{'type': 'Point', 'coordinates': [38.4404674, -122.7144314]}\n",
      "None\n",
      "None\n",
      "None\n",
      "{'type': 'Point', 'coordinates': [37.1042, -113.583]}\n",
      "None\n",
      "None\n",
      "None\n",
      "{'type': 'Point', 'coordinates': [38.113, -122.236]}\n",
      "None\n",
      "CPU times: user 2.36 ms, sys: 1.52 ms, total: 3.88 ms\n",
      "Wall time: 38.3 ms\n"
     ]
    }
   ],
   "source": [
    "%%time\n",
    "c = list(r2.aggregate([\n",
    "    {\"$project\": {\"geo\": True}}, \n",
    "    {\"$limit\": 20}]))\n",
    "\n",
    "for doc in c:\n",
    "    print(doc['geo'])"
   ]
  },
  {
   "cell_type": "code",
   "execution_count": 52,
   "metadata": {},
   "outputs": [
    {
     "name": "stdout",
     "output_type": "stream",
     "text": [
      "{'full_name': 'Culver City, CA', 'url': 'https://api.twitter.com/1.1/geo/id/a75bc1fb166cd594.json', 'country': 'United States', 'place_type': 'city', 'bounding_box': {'type': 'Polygon', 'coordinates': [[[-118.448451, 33.976882], [-118.448451, 34.035143], [-118.369529, 34.035143], [-118.369529, 33.976882]]]}, 'country_code': 'US', 'attributes': {}, 'id': 'a75bc1fb166cd594', 'name': 'Culver City'}\n",
      "{'full_name': 'Los Angeles, CA', 'url': 'https://api.twitter.com/1.1/geo/id/3b77caf94bfc81fe.json', 'country': 'United States', 'place_type': 'city', 'bounding_box': {'type': 'Polygon', 'coordinates': [[[-118.668404, 33.704538], [-118.668404, 34.337041], [-118.155409, 34.337041], [-118.155409, 33.704538]]]}, 'country_code': 'US', 'attributes': {}, 'id': '3b77caf94bfc81fe', 'name': 'Los Angeles'}\n",
      "{'full_name': 'San Francisco, CA', 'url': 'https://api.twitter.com/1.1/geo/id/5a110d312052166f.json', 'country': 'United States', 'place_type': 'city', 'bounding_box': {'type': 'Polygon', 'coordinates': [[[-122.514926, 37.708075], [-122.514926, 37.833238], [-122.357031, 37.833238], [-122.357031, 37.708075]]]}, 'country_code': 'US', 'attributes': {}, 'id': '5a110d312052166f', 'name': 'San Francisco'}\n",
      "{'full_name': 'Vancouver, WA', 'url': 'https://api.twitter.com/1.1/geo/id/5a16f6443a850916.json', 'country': 'United States', 'place_type': 'city', 'bounding_box': {'type': 'Polygon', 'coordinates': [[[-122.713442, 45.582501], [-122.713442, 45.678677], [-122.464507, 45.678677], [-122.464507, 45.582501]]]}, 'country_code': 'US', 'attributes': {}, 'id': '5a16f6443a850916', 'name': 'Vancouver'}\n",
      "{'full_name': 'Ukiah, CA', 'url': 'https://api.twitter.com/1.1/geo/id/0742517d53e00505.json', 'country': 'United States', 'place_type': 'city', 'bounding_box': {'type': 'Polygon', 'coordinates': [[[-123.232051, 39.116505], [-123.232051, 39.174311], [-123.18786, 39.174311], [-123.18786, 39.116505]]]}, 'country_code': 'US', 'attributes': {}, 'id': '0742517d53e00505', 'name': 'Ukiah'}\n",
      "{'full_name': 'South Gate, CA', 'url': 'https://api.twitter.com/1.1/geo/id/d71cc91cb651e322.json', 'country': 'United States', 'place_type': 'city', 'bounding_box': {'type': 'Polygon', 'coordinates': [[[-118.231784, 33.909795], [-118.231784, 33.966295], [-118.156267, 33.966295], [-118.156267, 33.909795]]]}, 'country_code': 'US', 'attributes': {}, 'id': 'd71cc91cb651e322', 'name': 'South Gate'}\n",
      "{'full_name': 'Santa Rosa, CA', 'url': 'https://api.twitter.com/1.1/geo/id/5a9de3ff3fdd849d.json', 'country': 'United States', 'place_type': 'city', 'bounding_box': {'type': 'Polygon', 'coordinates': [[[-122.779239, 38.396779], [-122.779239, 38.507656], [-122.572978, 38.507656], [-122.572978, 38.396779]]]}, 'country_code': 'US', 'attributes': {}, 'id': '5a9de3ff3fdd849d', 'name': 'Santa Rosa'}\n",
      "{'full_name': 'Fallon, NV', 'url': 'https://api.twitter.com/1.1/geo/id/01ec75222b2f2c04.json', 'country': 'United States', 'place_type': 'city', 'bounding_box': {'type': 'Polygon', 'coordinates': [[[-118.893966, 39.445681], [-118.893966, 39.514715], [-118.753561, 39.514715], [-118.753561, 39.445681]]]}, 'country_code': 'US', 'attributes': {}, 'id': '01ec75222b2f2c04', 'name': 'Fallon'}\n",
      "{'full_name': 'Antioch, CA', 'url': 'https://api.twitter.com/1.1/geo/id/9b101e0451f073b6.json', 'country': 'United States', 'place_type': 'city', 'bounding_box': {'type': 'Polygon', 'coordinates': [[[-121.860664, 37.945647], [-121.860664, 38.025674], [-121.732224, 38.025674], [-121.732224, 37.945647]]]}, 'country_code': 'US', 'attributes': {}, 'id': '9b101e0451f073b6', 'name': 'Antioch'}\n",
      "{'full_name': 'Los Angeles, CA', 'url': 'https://api.twitter.com/1.1/geo/id/3b77caf94bfc81fe.json', 'country': 'United States', 'place_type': 'city', 'bounding_box': {'type': 'Polygon', 'coordinates': [[[-118.668404, 33.704538], [-118.668404, 34.337041], [-118.155409, 34.337041], [-118.155409, 33.704538]]]}, 'country_code': 'US', 'attributes': {}, 'id': '3b77caf94bfc81fe', 'name': 'Los Angeles'}\n",
      "CPU times: user 1.88 ms, sys: 1.24 ms, total: 3.12 ms\n",
      "Wall time: 28.2 ms\n"
     ]
    }
   ],
   "source": [
    "%%time\n",
    "c = list(r2.aggregate([\n",
    "    {\"$project\": {\"place\": True}}, \n",
    "    {\"$limit\": 10}]))\n",
    "\n",
    "for doc in c:\n",
    "    print(doc['place'])"
   ]
  },
  {
   "cell_type": "code",
   "execution_count": null,
   "metadata": {},
   "outputs": [],
   "source": []
  },
  {
   "cell_type": "code",
   "execution_count": 54,
   "metadata": {},
   "outputs": [
    {
     "name": "stdout",
     "output_type": "stream",
     "text": [
      "CPU times: user 48.3 ms, sys: 2.82 ms, total: 51.1 ms\n",
      "Wall time: 1.09 s\n"
     ]
    },
    {
     "data": {
      "image/png": "[encoded data removed]",
      "text/plain": [
       "<Figure size 1080x360 with 1 Axes>"
      ]
     },
     "metadata": {
      "needs_background": "light"
     },
     "output_type": "display_data"
    }
   ],
   "source": [
    "%%time\n",
    "c = list(r2.aggregate([\n",
    "    {\"$match\": {\"coordinates\": {\"$ne\": None}}},\n",
    "    {\"$addFields\": {\"_dt\": {\"$toDate\": {\"$toLong\": \"$timestamp_ms\"}}}}, \n",
    "    {\"$group\": {\"_id\": {\"y\": {\"$year\": \"$_dt\"}, \"m\": {\"$month\": \"$_dt\"}}, \n",
    "                \"count\": {\"$sum\": 1}}}]))\n",
    "plot_counts(c)"
   ]
  },
  {
   "cell_type": "code",
   "execution_count": 55,
   "metadata": {},
   "outputs": [
    {
     "name": "stdout",
     "output_type": "stream",
     "text": [
      "CPU times: user 48.2 ms, sys: 1.7 ms, total: 49.9 ms\n",
      "Wall time: 1.32 s\n"
     ]
    },
    {
     "data": {
      "image/png": "[encoded data removed]",
      "text/plain": [
       "<Figure size 1080x360 with 1 Axes>"
      ]
     },
     "metadata": {
      "needs_background": "light"
     },
     "output_type": "display_data"
    }
   ],
   "source": [
    "%%time\n",
    "c = list(r2.aggregate([\n",
    "    {\"$match\": {\"geo\": {\"$ne\": None}}},\n",
    "    {\"$addFields\": {\"_dt\": {\"$toDate\": {\"$toLong\": \"$timestamp_ms\"}}}}, \n",
    "    {\"$group\": {\"_id\": {\"y\": {\"$year\": \"$_dt\"}, \"m\": {\"$month\": \"$_dt\"}}, \n",
    "                \"count\": {\"$sum\": 1}}}]))\n",
    "plot_counts(c)"
   ]
  },
  {
   "cell_type": "code",
   "execution_count": 24,
   "metadata": {},
   "outputs": [
    {
     "name": "stdout",
     "output_type": "stream",
     "text": [
      "CPU times: user 53.3 ms, sys: 1.4 ms, total: 54.7 ms\n",
      "Wall time: 3.72 s\n"
     ]
    },
    {
     "data": {
      "image/png": "[encoded data removed]",
      "text/plain": [
       "<Figure size 1080x360 with 1 Axes>"
      ]
     },
     "metadata": {
      "needs_background": "light"
     },
     "output_type": "display_data"
    }
   ],
   "source": [
    "%%time\n",
    "c = list(r2.aggregate([\n",
    "    {\"$match\": {\"place\": {\"$ne\": None}}},\n",
    "    {\"$addFields\": {\"_dt\": {\"$toDate\": {\"$toLong\": \"$timestamp_ms\"}}}}, \n",
    "    {\"$group\": {\"_id\": {\"y\": {\"$year\": \"$_dt\"}, \"m\": {\"$month\": \"$_dt\"}}, \n",
    "                \"count\": {\"$sum\": 1}}}]))\n",
    "plot_counts(c)"
   ]
  },
  {
   "cell_type": "code",
   "execution_count": null,
   "metadata": {},
   "outputs": [],
   "source": []
  },
  {
   "cell_type": "code",
   "execution_count": 7,
   "metadata": {},
   "outputs": [
    {
     "name": "stdout",
     "output_type": "stream",
     "text": [
      "Instagram: 63172\n",
      "TweetMyJOBS: 30618\n",
      "Foursquare: 7559\n",
      "SafeTweet by TweetMyJOBS: 3931\n",
      "Cities: 3334\n",
      "CareerArc 2.0: 2242\n",
      "Untappd: 1767\n",
      "Zorrotron: 1731\n",
      "Twitter for Android: 1651\n",
      "Twitter for iPhone: 1198\n",
      "Collatron: 1101\n",
      "City of Portland 911 feed: 1049\n",
      "Tweetbot for iΟS: 1033\n",
      "dlvr.it: 999\n",
      "Spot Reporters Server: 968\n",
      "Sandaysoft Cumulus: 947\n",
      "dlvr.it: 705\n",
      "TownTweet: 631\n",
      "City of Portland Fire/EMS feed: 541\n",
      "Virtual Jukebox - Recent Tracks: 479\n",
      "CPU times: user 1.76 ms, sys: 1.68 ms, total: 3.43 ms\n",
      "Wall time: 953 ms\n"
     ]
    }
   ],
   "source": [
    "%%time\n",
    "c = list(r2.aggregate([\n",
    "    {\"$match\": {\"geo\": {\"$ne\": None}}},\n",
    "    {\"$sortByCount\": \"$source\"}, \n",
    "    {\"$limit\": 20}]))\n",
    "\n",
    "for doc in c:\n",
    "    print(doc['_id'].split('>')[1].split('<')[0] + ': ' + str(doc['count']))"
   ]
  },
  {
   "cell_type": "code",
   "execution_count": null,
   "metadata": {},
   "outputs": [],
   "source": []
  },
  {
   "cell_type": "code",
   "execution_count": 60,
   "metadata": {},
   "outputs": [
    {
     "name": "stdout",
     "output_type": "stream",
     "text": [
      "city: 890263\n",
      "admin: 82006\n",
      "poi: 11933\n",
      "country: 9050\n",
      "neighborhood: 6480\n",
      "None: 268\n",
      "CPU times: user 1.44 ms, sys: 1.1 ms, total: 2.54 ms\n",
      "Wall time: 1.84 s\n"
     ]
    }
   ],
   "source": [
    "%%time\n",
    "c = list(r2.aggregate([\n",
    "    {\"$sortByCount\": \"$place.place_type\"}, \n",
    "    {\"$limit\": 20}]))\n",
    "\n",
    "for doc in c:\n",
    "    print(str(doc['_id']) + ': ' + str(doc['count']))"
   ]
  },
  {
   "cell_type": "code",
   "execution_count": 61,
   "metadata": {},
   "outputs": [
    {
     "name": "stdout",
     "output_type": "stream",
     "text": [
      "Los Angeles, CA: 122937\n",
      "California, USA: 39821\n",
      "San Francisco, CA: 30833\n",
      "San Diego, CA: 30217\n",
      "Seattle, WA: 21500\n",
      "Portland, OR: 17389\n",
      "Las Vegas, NV: 16973\n",
      "San Jose, CA: 15690\n",
      "Paradise, NV: 14110\n",
      "Arizona, USA: 12555\n",
      "Long Beach, CA: 11088\n",
      "Calgary, Alberta: 10935\n",
      "Oakland, CA: 10924\n",
      "Vancouver, British Columbia: 9690\n",
      "Sacramento, CA: 9400\n",
      "Fresno, CA: 8858\n",
      "Anaheim, CA: 8527\n",
      "Bakersfield, CA: 7608\n",
      "Washington, USA: 7555\n",
      "Riverside, CA: 6794\n",
      "CPU times: user 1.9 ms, sys: 1.36 ms, total: 3.26 ms\n",
      "Wall time: 2.1 s\n"
     ]
    }
   ],
   "source": [
    "%%time\n",
    "c = list(r2.aggregate([\n",
    "    {\"$sortByCount\": \"$place.full_name\"}, \n",
    "    {\"$limit\": 20}]))\n",
    "\n",
    "for doc in c:\n",
    "    print(str(doc['_id']) + ': ' + str(doc['count']))"
   ]
  },
  {
   "cell_type": "code",
   "execution_count": 37,
   "metadata": {},
   "outputs": [
    {
     "name": "stdout",
     "output_type": "stream",
     "text": [
      "Twitter HQ: 559\n",
      "Los Angeles International Airport (LAX): 79\n",
      "Dodger Stadium: 72\n",
      "Disneyland: 71\n",
      "San Francisco International Airport (SFO): 59\n",
      "STAPLES Center: 59\n",
      "Petco Park: 49\n",
      "Safeco Field: 49\n",
      "Rose Bowl Stadium: 41\n",
      "Rattlesnake Bar Folsom Lake: 38\n",
      "San Diego Convention Center: 38\n",
      "Starbucks: 37\n",
      "Disney California Adventure Park: 35\n",
      "Venice Beach: 35\n",
      "Anaheim Convention Center: 34\n",
      "The Forum: 32\n",
      "Oracle Arena: 32\n",
      "24 Hour Fitness: 30\n",
      "Universal Studios Hollywood: 30\n",
      "The Hollywood Bowl: 29\n",
      "CPU times: user 1.98 ms, sys: 1.42 ms, total: 3.41 ms\n",
      "Wall time: 1.05 s\n"
     ]
    }
   ],
   "source": [
    "%%time\n",
    "c = list(r2.aggregate([\n",
    "    {\"$match\": {\"place.place_type\": \"poi\"}},\n",
    "    {\"$sortByCount\": \"$place.full_name\"}, \n",
    "    {\"$limit\": 20}]))\n",
    "\n",
    "for doc in c:\n",
    "    print(str(doc['_id']) + ': ' + str(doc['count']))"
   ]
  },
  {
   "cell_type": "code",
   "execution_count": null,
   "metadata": {},
   "outputs": [],
   "source": []
  },
  {
   "cell_type": "code",
   "execution_count": 10,
   "metadata": {},
   "outputs": [
    {
     "name": "stdout",
     "output_type": "stream",
     "text": [
      "CPU times: user 53.6 ms, sys: 1.71 ms, total: 55.3 ms\n",
      "Wall time: 1.8 s\n"
     ]
    },
    {
     "data": {
      "image/png": "[encoded data removed]",
      "text/plain": [
       "<Figure size 1080x360 with 1 Axes>"
      ]
     },
     "metadata": {
      "needs_background": "light"
     },
     "output_type": "display_data"
    }
   ],
   "source": [
    "%%time\n",
    "c = list(r2.aggregate([\n",
    "    {\"$match\": {\"$and\": [{\"geo\": {\"$ne\": None}}, {\"source\": {\"$regex\" : \".*>Twitter .*\"}}]}},\n",
    "    {\"$addFields\": {\"_dt\": {\"$toDate\": {\"$toLong\": \"$timestamp_ms\"}}}}, \n",
    "    {\"$group\": {\"_id\": {\"y\": {\"$year\": \"$_dt\"}, \"m\": {\"$month\": \"$_dt\"}}, \n",
    "                \"count\": {\"$sum\": 1}}}]))\n",
    "plot_counts(c)"
   ]
  },
  {
   "cell_type": "code",
   "execution_count": 11,
   "metadata": {},
   "outputs": [
    {
     "name": "stdout",
     "output_type": "stream",
     "text": [
      "CPU times: user 54.2 ms, sys: 1.66 ms, total: 55.9 ms\n",
      "Wall time: 2.14 s\n"
     ]
    },
    {
     "data": {
      "image/png": "[encoded data removed]",
      "text/plain": [
       "<Figure size 1080x360 with 1 Axes>"
      ]
     },
     "metadata": {
      "needs_background": "light"
     },
     "output_type": "display_data"
    }
   ],
   "source": [
    "%%time\n",
    "c = list(r2.aggregate([\n",
    "    {\"$match\": {\"$and\": [{\"geo\": {\"$ne\": None}}, {\"source\": {\"$regex\" : \".*>Instagram<.*\"}}]}},\n",
    "    {\"$addFields\": {\"_dt\": {\"$toDate\": {\"$toLong\": \"$timestamp_ms\"}}}}, \n",
    "    {\"$group\": {\"_id\": {\"y\": {\"$year\": \"$_dt\"}, \"m\": {\"$month\": \"$_dt\"}}, \n",
    "                \"count\": {\"$sum\": 1}}}]))\n",
    "plot_counts(c)"
   ]
  },
  {
   "cell_type": "markdown",
   "metadata": {},
   "source": [
    "So coordinate tags in general are staying about level, but they're mostly not from the Twitter app -- not that very many of them were initially either"
   ]
  },
  {
   "cell_type": "code",
   "execution_count": 12,
   "metadata": {},
   "outputs": [
    {
     "name": "stdout",
     "output_type": "stream",
     "text": [
      "CPU times: user 91.2 ms, sys: 1.16 ms, total: 92.3 ms\n",
      "Wall time: 2.19 s\n"
     ]
    },
    {
     "data": {
      "image/png": "[encoded data removed]",
      "text/plain": [
       "<Figure size 1080x360 with 1 Axes>"
      ]
     },
     "metadata": {
      "needs_background": "light"
     },
     "output_type": "display_data"
    }
   ],
   "source": [
    "%%time\n",
    "c = list(r2.aggregate([\n",
    "    {\"$match\": {\"source\": {\"$regex\" : \".*>Instagram<.*\"}}},\n",
    "    {\"$addFields\": {\"_dt\": {\"$toDate\": {\"$toLong\": \"$timestamp_ms\"}}}}, \n",
    "    {\"$group\": {\"_id\": {\"y\": {\"$year\": \"$_dt\"}, \"m\": {\"$month\": \"$_dt\"}}, \n",
    "                \"count\": {\"$sum\": 1}}}]))\n",
    "plot_counts(c)"
   ]
  },
  {
   "cell_type": "code",
   "execution_count": 14,
   "metadata": {},
   "outputs": [
    {
     "name": "stdout",
     "output_type": "stream",
     "text": [
      "[-118.243, 34.0522]: 2915\n",
      "[-115.136, 36.175]: 600\n",
      "[-122.418, 37.775]: 442\n",
      "[-117.156, 32.7153]: 361\n",
      "[-122.331, 47.6064]: 318\n",
      "[-123.1, 49.25]: 281\n",
      "[-122.682, 45.52]: 249\n",
      "[-117.9188776, 33.81224332]: 236\n",
      "[-118.481, 34.0221]: 215\n",
      "[-114.057, 51.045]: 202\n",
      "CPU times: user 1.75 ms, sys: 1.22 ms, total: 2.97 ms\n",
      "Wall time: 2.1 s\n"
     ]
    }
   ],
   "source": [
    "%%time\n",
    "c = list(r2.aggregate([\n",
    "    {\"$match\": {\"source\": {\"$regex\" : \".*>Instagram<.*\"}}},\n",
    "    {\"$sortByCount\": \"$coordinates.coordinates\"}, \n",
    "    {\"$limit\": 10}]))\n",
    "\n",
    "for doc in c:\n",
    "    print(str(doc['_id']) + ': ' + str(doc['count']))"
   ]
  },
  {
   "cell_type": "code",
   "execution_count": 15,
   "metadata": {},
   "outputs": [
    {
     "name": "stdout",
     "output_type": "stream",
     "text": [
      "None: 850974\n",
      "[-118.3077924, 34.2630117]: 8\n",
      "[-121.4569108, 38.5454871]: 6\n",
      "[-119.7980592, 36.9424373]: 5\n",
      "[-119.7967611, 36.9414986]: 4\n",
      "[-121.7175745, 42.2033757]: 4\n",
      "[-118.09663486, 34.09195995]: 4\n",
      "[-118.3751849, 34.0551246]: 4\n",
      "[-116.5901365, 43.5847311]: 4\n",
      "[-119.7042428, 36.8045926]: 3\n",
      "[-121.4568661, 38.5454633]: 3\n",
      "[-114.9239775, 32.5159586]: 3\n",
      "[-118.2150024, 34.0473923]: 3\n",
      "[-119.7897503, 36.7436139]: 3\n",
      "[-123.1408188, 49.2865504]: 3\n",
      "[-118.2462749, 33.7584201]: 3\n",
      "[-118.1835304, 33.8545302]: 3\n",
      "[-122.9169598, 49.1991832]: 3\n",
      "[-122.4082498, 45.5204213]: 3\n",
      "[-119.7980311, 36.9423351]: 3\n",
      "CPU times: user 2.32 ms, sys: 1.35 ms, total: 3.66 ms\n",
      "Wall time: 2.1 s\n"
     ]
    }
   ],
   "source": [
    "%%time\n",
    "c = list(r2.aggregate([\n",
    "    {\"$match\": {\"source\": {\"$regex\" : \".*>Twitter .*\"}}},\n",
    "    {\"$sortByCount\": \"$coordinates.coordinates\"}, \n",
    "    {\"$limit\": 20}]))\n",
    "\n",
    "for doc in c:\n",
    "    print(str(doc['_id']) + ': ' + str(doc['count']))"
   ]
  },
  {
   "cell_type": "markdown",
   "metadata": {},
   "source": [
    "And the Instagram points look like centroids of polygons, while the Twitter ones aren't (top one is in LA)"
   ]
  },
  {
   "cell_type": "code",
   "execution_count": 25,
   "metadata": {},
   "outputs": [
    {
     "name": "stdout",
     "output_type": "stream",
     "text": [
      "city: 56702\n",
      "admin: 6364\n",
      "neighborhood: 94\n",
      "None: 10\n",
      "country: 2\n",
      "CPU times: user 1.61 ms, sys: 1.23 ms, total: 2.83 ms\n",
      "Wall time: 2.02 s\n"
     ]
    }
   ],
   "source": [
    "%%time\n",
    "c = list(r2.aggregate([\n",
    "    {\"$match\": {\"source\": {\"$regex\" : \".*>Instagram<.*\"}}},\n",
    "    {\"$sortByCount\": \"$place.place_type\"}, \n",
    "    {\"$limit\": 20}]))\n",
    "\n",
    "for doc in c:\n",
    "    print(str(doc['_id']) + ': ' + str(doc['count']))"
   ]
  },
  {
   "cell_type": "code",
   "execution_count": 26,
   "metadata": {},
   "outputs": [
    {
     "name": "stdout",
     "output_type": "stream",
     "text": [
      "city: 7000\n",
      "admin: 555\n",
      "neighborhood: 4\n",
      "CPU times: user 1.51 ms, sys: 1.11 ms, total: 2.62 ms\n",
      "Wall time: 1.9 s\n"
     ]
    }
   ],
   "source": [
    "%%time\n",
    "c = list(r2.aggregate([\n",
    "    {\"$match\": {\"source\": {\"$regex\" : \".*>Foursquare<.*\"}}},\n",
    "    {\"$sortByCount\": \"$place.place_type\"}, \n",
    "    {\"$limit\": 20}]))\n",
    "\n",
    "for doc in c:\n",
    "    print(str(doc['_id']) + ': ' + str(doc['count']))"
   ]
  },
  {
   "cell_type": "code",
   "execution_count": 27,
   "metadata": {},
   "outputs": [
    {
     "name": "stdout",
     "output_type": "stream",
     "text": [
      "city: 2966\n",
      "admin: 246\n",
      "poi: 98\n",
      "neighborhood: 26\n",
      "country: 25\n",
      "CPU times: user 1.54 ms, sys: 1.11 ms, total: 2.65 ms\n",
      "Wall time: 1.74 s\n"
     ]
    }
   ],
   "source": [
    "%%time\n",
    "c = list(r2.aggregate([\n",
    "    {\"$match\": {\"$and\": [{\"geo\": {\"$ne\": None}}, {\"source\": {\"$regex\" : \".*>Twitter .*\"}}]}},\n",
    "    {\"$sortByCount\": \"$place.place_type\"}, \n",
    "    {\"$limit\": 20}]))\n",
    "\n",
    "for doc in c:\n",
    "    print(str(doc['_id']) + ': ' + str(doc['count']))"
   ]
  },
  {
   "cell_type": "code",
   "execution_count": null,
   "metadata": {},
   "outputs": [],
   "source": []
  },
  {
   "cell_type": "code",
   "execution_count": 35,
   "metadata": {},
   "outputs": [
    {
     "name": "stdout",
     "output_type": "stream",
     "text": [
      "CPU times: user 58 ms, sys: 1.9 ms, total: 59.9 ms\n",
      "Wall time: 3.33 s\n"
     ]
    },
    {
     "data": {
      "image/png": "[encoded data removed]",
      "text/plain": [
       "<Figure size 1080x360 with 1 Axes>"
      ]
     },
     "metadata": {
      "needs_background": "light"
     },
     "output_type": "display_data"
    }
   ],
   "source": [
    "%%time\n",
    "c = list(r2.aggregate([\n",
    "    {\"$addFields\": {\"_dt\": {\"$toDate\": {\"$toLong\": \"$timestamp_ms\"}}}}, \n",
    "    {\"$group\": {\"_id\": {\"y\": {\"$year\": \"$_dt\"}, \"m\": {\"$month\": \"$_dt\"}}, \n",
    "                \"maxTimestamp\": {\"$max\": \"$_dt\"},\n",
    "                \"minTimestamp\": {\"$min\": \"$_dt\"}}},\n",
    "    {\"$addFields\": {\"count\": {\"$subtract\": [\"$maxTimestamp\", \"$minTimestamp\"]}}}]))\n",
    "plot_counts(c)"
   ]
  },
  {
   "cell_type": "code",
   "execution_count": null,
   "metadata": {},
   "outputs": [],
   "source": []
  }
 ],
 "metadata": {
  "kernelspec": {
   "display_name": "Python 3",
   "language": "python",
   "name": "python3"
  },
  "language_info": {
   "codemirror_mode": {
    "name": "ipython",
    "version": 3
   },
   "file_extension": ".py",
   "mimetype": "text/x-python",
   "name": "python",
   "nbconvert_exporter": "python",
   "pygments_lexer": "ipython3",
   "version": "3.6.6"
  }
 },
 "nbformat": 4,
 "nbformat_minor": 2
}
