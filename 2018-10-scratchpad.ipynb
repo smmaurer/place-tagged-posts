{
 "cells": [
  {
   "cell_type": "markdown",
   "metadata": {},
   "source": [
    "# Mongodb scratchpad\n",
    "\n",
    "Sam Maurer, October 2018\n",
    "\n",
    "Make sure to launch the mongodb server first:  \n",
    "`mongod --dbpath ~/mongodb-data`\n",
    "\n",
    "https://api.mongodb.com/python/current/api/pymongo/index.html  \n",
    "https://docs.mongodb.com/manual/reference/operator/aggregation-pipeline/"
   ]
  },
  {
   "cell_type": "code",
   "execution_count": 1,
   "metadata": {},
   "outputs": [],
   "source": [
    "import numpy as np\n",
    "import pandas as pd\n",
    "import pymongo\n",
    "\n",
    "import datetime\n",
    "import os"
   ]
  },
  {
   "cell_type": "code",
   "execution_count": 10,
   "metadata": {},
   "outputs": [],
   "source": [
    "%matplotlib inline"
   ]
  },
  {
   "cell_type": "code",
   "execution_count": null,
   "metadata": {},
   "outputs": [],
   "source": []
  },
  {
   "cell_type": "markdown",
   "metadata": {},
   "source": [
    "### Mongo connection"
   ]
  },
  {
   "cell_type": "code",
   "execution_count": 2,
   "metadata": {},
   "outputs": [],
   "source": [
    "client = pymongo.MongoClient()"
   ]
  },
  {
   "cell_type": "code",
   "execution_count": 3,
   "metadata": {},
   "outputs": [],
   "source": [
    "db = client.tweets\n",
    "col = db.westcoastmonthly\n",
    "r1 = db.westcoast_monthly_random_10k\n",
    "r2 = db.westcoast_monthly_random_1M"
   ]
  },
  {
   "cell_type": "code",
   "execution_count": 4,
   "metadata": {},
   "outputs": [
    {
     "data": {
      "text/plain": [
       "18000000"
      ]
     },
     "execution_count": 4,
     "metadata": {},
     "output_type": "execute_result"
    }
   ],
   "source": [
    "col.count_documents({})"
   ]
  },
  {
   "cell_type": "code",
   "execution_count": null,
   "metadata": {},
   "outputs": [],
   "source": []
  },
  {
   "cell_type": "markdown",
   "metadata": {},
   "source": [
    "### Mongo operations"
   ]
  },
  {
   "cell_type": "code",
   "execution_count": 5,
   "metadata": {
    "scrolled": true
   },
   "outputs": [
    {
     "data": {
      "text/plain": [
       "{'_id': ObjectId('5bc7b5dc6bbd390c66cde84e'),\n",
       " 'contributors': None,\n",
       " 'truncated': False,\n",
       " 'text': \"I can't click on digital representations of video clips any more. 🔪📼🖱🚨\",\n",
       " 'is_quote_status': False,\n",
       " 'in_reply_to_status_id': None,\n",
       " 'id': 738194571331391489,\n",
       " 'favorite_count': 0,\n",
       " 'source': '<a href=\"http://twitter.com/download/iphone\" rel=\"nofollow\">Twitter for iPhone</a>',\n",
       " 'retweeted': False,\n",
       " 'coordinates': None,\n",
       " 'timestamp_ms': '1464834275454',\n",
       " 'entities': {'user_mentions': [], 'symbols': [], 'hashtags': [], 'urls': []},\n",
       " 'in_reply_to_screen_name': None,\n",
       " 'id_str': '738194571331391489',\n",
       " 'retweet_count': 0,\n",
       " 'in_reply_to_user_id': None,\n",
       " 'favorited': False,\n",
       " 'user': {'follow_request_sent': None,\n",
       "  'profile_use_background_image': True,\n",
       "  'default_profile_image': False,\n",
       "  'id': 18794420,\n",
       "  'verified': False,\n",
       "  'profile_image_url_https': 'https://pbs.twimg.com/profile_images/569268765926240256/_t9_8eIa_normal.png',\n",
       "  'profile_sidebar_fill_color': '000000',\n",
       "  'profile_text_color': 'FFF291',\n",
       "  'followers_count': 1106,\n",
       "  'profile_sidebar_border_color': 'FFFFFF',\n",
       "  'id_str': '18794420',\n",
       "  'profile_background_color': 'E0E0E0',\n",
       "  'listed_count': 21,\n",
       "  'profile_background_image_url_https': 'https://pbs.twimg.com/profile_background_images/629012593533849600/Xw_E97Vy.jpg',\n",
       "  'utc_offset': -25200,\n",
       "  'statuses_count': 16482,\n",
       "  'description': \"WEVA Weather Girl reporting LIVE from the Dusk Side. Don't make me have to wet u up. Or dry u down. Or damp u in the middle. #deadhead 4 life\",\n",
       "  'friends_count': 491,\n",
       "  'location': 'Sun Valley, Los Angeles',\n",
       "  'profile_link_color': 'ABB8C2',\n",
       "  'profile_image_url': 'http://pbs.twimg.com/profile_images/569268765926240256/_t9_8eIa_normal.png',\n",
       "  'following': None,\n",
       "  'geo_enabled': True,\n",
       "  'profile_banner_url': 'https://pbs.twimg.com/profile_banners/18794420/1445809654',\n",
       "  'profile_background_image_url': 'http://pbs.twimg.com/profile_background_images/629012593533849600/Xw_E97Vy.jpg',\n",
       "  'name': 'WEATHER GIRL',\n",
       "  'lang': 'en',\n",
       "  'profile_background_tile': True,\n",
       "  'favourites_count': 10153,\n",
       "  'screen_name': 'WEVAchannel4',\n",
       "  'notifications': None,\n",
       "  'url': 'https://www.youtube.com/CRYSTALFALLZ',\n",
       "  'created_at': 'Fri Jan 09 06:22:51 +0000 2009',\n",
       "  'contributors_enabled': False,\n",
       "  'time_zone': 'Pacific Time (US & Canada)',\n",
       "  'protected': False,\n",
       "  'default_profile': False,\n",
       "  'is_translator': False},\n",
       " 'geo': None,\n",
       " 'in_reply_to_user_id_str': None,\n",
       " 'lang': 'en',\n",
       " 'created_at': 'Thu Jun 02 02:24:35 +0000 2016',\n",
       " 'filter_level': 'low',\n",
       " 'in_reply_to_status_id_str': None,\n",
       " 'place': {'full_name': 'Burbank, CA',\n",
       "  'url': 'https://api.twitter.com/1.1/geo/id/b0b79caecef59fb5.json',\n",
       "  'country': 'United States',\n",
       "  'place_type': 'city',\n",
       "  'bounding_box': {'type': 'Polygon',\n",
       "   'coordinates': [[[-118.37032, 34.14263],\n",
       "     [-118.37032, 34.22169],\n",
       "     [-118.27997, 34.22169],\n",
       "     [-118.27997, 34.14263]]]},\n",
       "  'country_code': 'US',\n",
       "  'attributes': {},\n",
       "  'id': 'b0b79caecef59fb5',\n",
       "  'name': 'Burbank'}}"
      ]
     },
     "execution_count": 5,
     "metadata": {},
     "output_type": "execute_result"
    }
   ],
   "source": [
    "col.find_one({})"
   ]
  },
  {
   "cell_type": "code",
   "execution_count": 25,
   "metadata": {
    "scrolled": true
   },
   "outputs": [
    {
     "name": "stdout",
     "output_type": "stream",
     "text": [
      "{'_id': {'lang': 'hr'}, 'count': 63}\n",
      "{'_id': {'lang': 'sk'}, 'count': 136}\n",
      "{'_id': {'lang': 'ca'}, 'count': 288}\n",
      "{'_id': {'lang': 'lo'}, 'count': 5}\n",
      "{'_id': {'lang': 'or'}, 'count': 94}\n",
      "{'_id': {'lang': 'am'}, 'count': 57}\n",
      "{'_id': {'lang': 'te'}, 'count': 9}\n",
      "{'_id': {'lang': 'ml'}, 'count': 2}\n",
      "{'_id': {'lang': 'kn'}, 'count': 42}\n",
      "{'_id': {'lang': 'sd'}, 'count': 1}\n",
      "{'_id': {'lang': 'bn'}, 'count': 14}\n",
      "{'_id': {'lang': 'my'}, 'count': 12}\n",
      "{'_id': {'lang': 'mr'}, 'count': 4}\n",
      "{'_id': {'lang': 'hy'}, 'count': 25}\n",
      "{'_id': {'lang': 'el'}, 'count': 72}\n",
      "{'_id': {'lang': 'ta'}, 'count': 59}\n",
      "{'_id': {'lang': 'pl'}, 'count': 6241}\n",
      "{'_id': {'lang': 'sr'}, 'count': 76}\n",
      "{'_id': {'lang': 'ne'}, 'count': 99}\n",
      "{'_id': {'lang': 'nl'}, 'count': 8601}\n",
      "{'_id': {'lang': 'ur'}, 'count': 408}\n",
      "{'_id': {'lang': 'ko'}, 'count': 5390}\n",
      "{'_id': {'lang': 'lt'}, 'count': 1935}\n",
      "{'_id': {'lang': 'zh'}, 'count': 5304}\n",
      "{'_id': {'lang': 'bg'}, 'count': 187}\n",
      "{'_id': {'lang': 'is'}, 'count': 2048}\n",
      "{'_id': {'lang': 'hu'}, 'count': 1677}\n",
      "{'_id': {'lang': 'bs'}, 'count': 102}\n",
      "{'_id': {'lang': 'gu'}, 'count': 8}\n",
      "{'_id': {'lang': 'hi'}, 'count': 2718}\n",
      "{'_id': {'lang': 'si'}, 'count': 1}\n",
      "{'_id': {'lang': 'lv'}, 'count': 1906}\n",
      "{'_id': {'lang': 'no'}, 'count': 3799}\n",
      "{'_id': {'lang': 'da'}, 'count': 5041}\n",
      "{'_id': {'lang': 'km'}, 'count': 2}\n",
      "{'_id': {'lang': 'vi'}, 'count': 706}\n",
      "{'_id': {'lang': 'eu'}, 'count': 2179}\n",
      "{'_id': {'lang': 'ro'}, 'count': 3747}\n",
      "{'_id': {'lang': 'uk'}, 'count': 481}\n",
      "{'_id': {'lang': 'iw'}, 'count': 298}\n",
      "{'_id': {'lang': 'fr'}, 'count': 32797}\n",
      "{'_id': {'lang': 'et'}, 'count': 11502}\n",
      "{'_id': {'lang': 'fi'}, 'count': 5026}\n",
      "{'_id': {'lang': None}, 'count': 32}\n",
      "{'_id': {'lang': 'cy'}, 'count': 4209}\n",
      "{'_id': {'lang': 'th'}, 'count': 4033}\n",
      "{'_id': {'lang': 'es'}, 'count': 188037}\n",
      "{'_id': {'lang': 'pt'}, 'count': 28607}\n",
      "{'_id': {'lang': 'sv'}, 'count': 5298}\n",
      "{'_id': {'lang': 'cs'}, 'count': 1773}\n",
      "{'_id': {'lang': 'fa'}, 'count': 5162}\n",
      "{'_id': {'lang': 'sl'}, 'count': 760}\n",
      "{'_id': {'lang': 'in'}, 'count': 27585}\n",
      "{'_id': {'lang': 'it'}, 'count': 14167}\n",
      "{'_id': {'lang': 'ru'}, 'count': 5844}\n",
      "{'_id': {'lang': 'de'}, 'count': 10354}\n",
      "{'_id': {'lang': 'ja'}, 'count': 25246}\n",
      "{'_id': {'lang': 'ka'}, 'count': 1}\n",
      "{'_id': {'lang': 'und'}, 'count': 716060}\n",
      "{'_id': {'lang': 'pa'}, 'count': 41}\n",
      "{'_id': {'lang': 'ps'}, 'count': 2}\n",
      "{'_id': {'lang': 'tl'}, 'count': 58229}\n",
      "{'_id': {'lang': 'tr'}, 'count': 8238}\n",
      "{'_id': {'lang': 'ar'}, 'count': 18032}\n",
      "{'_id': {'lang': 'ht'}, 'count': 22755}\n",
      "{'_id': {'lang': 'en'}, 'count': 7252373}\n",
      "CPU times: user 20.5 ms, sys: 8.82 ms, total: 29.3 ms\n",
      "Wall time: 1min 32s\n"
     ]
    }
   ],
   "source": [
    "%%time\n",
    "c = col.aggregate([{\"$group\": {\"_id\": {\"lang\": \"$lang\"}, \"count\": {\"$sum\": 1}}}])\n",
    "for doc in c:\n",
    "    print(doc)"
   ]
  },
  {
   "cell_type": "code",
   "execution_count": 56,
   "metadata": {},
   "outputs": [
    {
     "name": "stdout",
     "output_type": "stream",
     "text": [
      "CPU times: user 48.9 ms, sys: 16.5 ms, total: 65.4 ms\n",
      "Wall time: 4min\n"
     ]
    }
   ],
   "source": [
    "%%time\n",
    "c = list(col.aggregate([{\"$sortByCount\": \"$lang\"}, {\"$limit\": 10}]))"
   ]
  },
  {
   "cell_type": "code",
   "execution_count": 59,
   "metadata": {},
   "outputs": [
    {
     "name": "stdout",
     "output_type": "stream",
     "text": [
      "en: 15367971 (85.4%)\n",
      "und: 1515231 (8.4%)\n",
      "es: 397040 (2.2%)\n",
      "tl: 116017 (0.6%)\n",
      "fr: 69486 (0.4%)\n",
      "pt: 60277 (0.3%)\n",
      "in: 56202 (0.3%)\n",
      "ja: 54375 (0.3%)\n",
      "ht: 47763 (0.3%)\n",
      "ar: 40893 (0.2%)\n"
     ]
    }
   ],
   "source": [
    "total = col.estimated_document_count()\n",
    "\n",
    "for doc in c:\n",
    "    print(\"{}: {} ({}%)\".format(doc['_id'], doc['count'], round(100*doc['count']/total, 1)))"
   ]
  },
  {
   "cell_type": "code",
   "execution_count": 6,
   "metadata": {},
   "outputs": [
    {
     "name": "stdout",
     "output_type": "stream",
     "text": [
      "[{'_id': 'en', 'count': 846}, {'_id': 'und', 'count': 101}, {'_id': 'es', 'count': 19}, {'_id': 'tl', 'count': 8}, {'_id': 'ht', 'count': 7}, {'_id': 'pt', 'count': 4}, {'_id': 'ja', 'count': 3}, {'_id': 'ar', 'count': 2}, {'_id': 'it', 'count': 2}, {'_id': 'in', 'count': 2}]\n",
      "CPU times: user 2.06 ms, sys: 1.26 ms, total: 3.32 ms\n",
      "Wall time: 5.93 s\n"
     ]
    }
   ],
   "source": [
    "%%time\n",
    "c = list(col.aggregate([\n",
    "    {\"$sample\": {\"size\": 1000}}, \n",
    "    {\"$sortByCount\": \"$lang\"}, \n",
    "    {\"$limit\": 10}]))\n",
    "print(c)"
   ]
  },
  {
   "cell_type": "code",
   "execution_count": 11,
   "metadata": {},
   "outputs": [
    {
     "name": "stdout",
     "output_type": "stream",
     "text": [
      "[]\n",
      "CPU times: user 2.08 ms, sys: 2.34 ms, total: 4.42 ms\n",
      "Wall time: 3.6 s\n"
     ]
    }
   ],
   "source": [
    "%%time\n",
    "c = list(col.aggregate([\n",
    "    {\"$sample\": {\"size\": 10000}}, \n",
    "    {\"$out\": \"westcoast_monthly_random_10k\"}]))\n",
    "print(c)"
   ]
  },
  {
   "cell_type": "code",
   "execution_count": 15,
   "metadata": {},
   "outputs": [
    {
     "data": {
      "text/plain": [
       "['westcoastmonthly',\n",
       " 'westcoast_monthly_random_10k',\n",
       " 'westcoast_sample_random_10k']"
      ]
     },
     "execution_count": 15,
     "metadata": {},
     "output_type": "execute_result"
    }
   ],
   "source": [
    "db.list_collection_names()"
   ]
  },
  {
   "cell_type": "code",
   "execution_count": 16,
   "metadata": {},
   "outputs": [
    {
     "data": {
      "text/plain": [
       "{'ns': 'tweets.westcoast_sample_random_10k', 'nIndexesWas': 1, 'ok': 1.0}"
      ]
     },
     "execution_count": 16,
     "metadata": {},
     "output_type": "execute_result"
    }
   ],
   "source": [
    "db.drop_collection('westcoast_sample_random_10k')"
   ]
  },
  {
   "cell_type": "code",
   "execution_count": 39,
   "metadata": {},
   "outputs": [
    {
     "name": "stdout",
     "output_type": "stream",
     "text": [
      "[]\n",
      "CPU times: user 398 ms, sys: 133 ms, total: 531 ms\n",
      "Wall time: 17min 57s\n"
     ]
    }
   ],
   "source": [
    "%%time\n",
    "c = list(col.aggregate([\n",
    "    {\"$sample\": {\"size\": 1000000}}, \n",
    "    {\"$out\": \"westcoast_monthly_random_1M\"}],\n",
    "    allowDiskUse = True))\n",
    "print(c)"
   ]
  },
  {
   "cell_type": "code",
   "execution_count": 6,
   "metadata": {},
   "outputs": [
    {
     "name": "stdout",
     "output_type": "stream",
     "text": [
      "[{'_id': 'en', 'count': 8510}, {'_id': 'und', 'count': 832}, {'_id': 'es', 'count': 240}, {'_id': 'tl', 'count': 70}, {'_id': 'fr', 'count': 43}, {'_id': 'in', 'count': 35}, {'_id': 'pt', 'count': 31}, {'_id': 'ht', 'count': 28}, {'_id': 'ja', 'count': 27}, {'_id': 'ar', 'count': 26}]\n",
      "CPU times: user 1.16 ms, sys: 900 µs, total: 2.06 ms\n",
      "Wall time: 126 ms\n"
     ]
    }
   ],
   "source": [
    "%%time\n",
    "c = list(r1.aggregate([\n",
    "    {\"$sortByCount\": \"$lang\"}, \n",
    "    {\"$limit\": 10}]))\n",
    "print(c)"
   ]
  },
  {
   "cell_type": "code",
   "execution_count": 7,
   "metadata": {},
   "outputs": [
    {
     "name": "stdout",
     "output_type": "stream",
     "text": [
      "[{'_id': 2016, 'count': 3396}, {'_id': 2017, 'count': 3304}, {'_id': 2018, 'count': 2573}, {'_id': 2015, 'count': 727}]\n",
      "CPU times: user 1.47 ms, sys: 1.35 ms, total: 2.82 ms\n",
      "Wall time: 39.6 ms\n"
     ]
    }
   ],
   "source": [
    "%%time\n",
    "c = list(r1.aggregate([\n",
    "    {\"$project\": {\"_dt\": {\"$toDate\": {\"$toLong\": \"$timestamp_ms\"}}}}, \n",
    "    {\"$sortByCount\": {\"$year\": \"$_dt\"}}]))\n",
    "print(c)"
   ]
  },
  {
   "cell_type": "code",
   "execution_count": 26,
   "metadata": {},
   "outputs": [
    {
     "name": "stdout",
     "output_type": "stream",
     "text": [
      "[{'_id': ObjectId('5bc7c1a26bbd390c6672acd1'), '_dt': datetime.datetime(2016, 10, 2, 3, 14, 5, 255000)}]\n",
      "CPU times: user 2.45 ms, sys: 1.19 ms, total: 3.64 ms\n",
      "Wall time: 18.7 ms\n"
     ]
    }
   ],
   "source": [
    "%%time\n",
    "c = list(r1.aggregate([\n",
    "    {\"$addFields\": {\"_dt\": {\"$toDate\": {\"$toLong\": \"$timestamp_ms\"}}}}, \n",
    "    {\"$limit\": 1},\n",
    "    {\"$project\": {\"_dt\": True}}]))\n",
    "print(c)"
   ]
  },
  {
   "cell_type": "code",
   "execution_count": 8,
   "metadata": {},
   "outputs": [
    {
     "name": "stdout",
     "output_type": "stream",
     "text": [
      "[{'_id': {'y': None, 'm': None}, 'count': 10}, {'_id': {'y': 2018, 'm': 2}, 'count': 27907}]\n",
      "CPU times: user 5.06 ms, sys: 2.03 ms, total: 7.1 ms\n",
      "Wall time: 18.7 s\n"
     ]
    }
   ],
   "source": [
    "%%time\n",
    "c = list(r2.aggregate([\n",
    "    {\"$addFields\": {\"_dt\": {\"$toDate\": {\"$toLong\": \"$timestamp_ms\"}}}}, \n",
    "    {\"$group\": {\"_id\": {\"y\": {\"$year\": \"$_dt\"}, \"m\": {\"$month\": \"$_dt\"}}, \n",
    "                \"count\": {\"$sum\": 1}}}]))\n",
    "print(c[:2])"
   ]
  },
  {
   "cell_type": "code",
   "execution_count": 11,
   "metadata": {},
   "outputs": [
    {
     "data": {
      "text/plain": [
       "<matplotlib.axes._subplots.AxesSubplot at 0x11f2819e8>"
      ]
     },
     "execution_count": 11,
     "metadata": {},
     "output_type": "execute_result"
    },
    {
     "data": {
      "image/png": "[encoded data removed]",
      "text/plain": [
       "<Figure size 1080x360 with 1 Axes>"
      ]
     },
     "metadata": {
      "needs_background": "light"
     },
     "output_type": "display_data"
    }
   ],
   "source": [
    "ym, count = ([], [])\n",
    "\n",
    "for doc in c:\n",
    "    ym.append(str(doc['_id']['y']) + '-' + str(doc['_id']['m']))\n",
    "    count.append(doc['count'])\n",
    "\n",
    "df = pd.DataFrame({'ym': ym, 'count': count}).sort_values('ym')\n",
    "df.plot.bar(x='ym', y='count', figsize=(15,5), facecolor='666')"
   ]
  },
  {
   "cell_type": "code",
   "execution_count": null,
   "metadata": {},
   "outputs": [],
   "source": []
  },
  {
   "cell_type": "code",
   "execution_count": 9,
   "metadata": {},
   "outputs": [],
   "source": [
    "calif_bbox = {'type':'Polygon','coordinates': [[[-124.48, 42.01], [-124.48, 32.52],\n",
    "[-114.13, 32.52], [-114.13, 42.01], [-124.48, 42.01]]]}"
   ]
  },
  {
   "cell_type": "code",
   "execution_count": 16,
   "metadata": {},
   "outputs": [
    {
     "name": "stdout",
     "output_type": "stream",
     "text": [
      "504604\n",
      "CPU times: user 5.42 ms, sys: 3.06 ms, total: 8.48 ms\n",
      "Wall time: 24.4 s\n"
     ]
    }
   ],
   "source": [
    "%%time\n",
    "print(collection.count_documents({\"coordinates\": {\"$geoWithin\": {\"$geometry\": calif_bbox}}}))"
   ]
  },
  {
   "cell_type": "code",
   "execution_count": null,
   "metadata": {},
   "outputs": [],
   "source": []
  },
  {
   "cell_type": "code",
   "execution_count": null,
   "metadata": {},
   "outputs": [],
   "source": []
  },
  {
   "cell_type": "code",
   "execution_count": null,
   "metadata": {},
   "outputs": [],
   "source": []
  },
  {
   "cell_type": "code",
   "execution_count": null,
   "metadata": {},
   "outputs": [],
   "source": []
  },
  {
   "cell_type": "code",
   "execution_count": null,
   "metadata": {},
   "outputs": [],
   "source": []
  },
  {
   "cell_type": "code",
   "execution_count": null,
   "metadata": {},
   "outputs": [],
   "source": []
  }
 ],
 "metadata": {
  "kernelspec": {
   "display_name": "Python 3",
   "language": "python",
   "name": "python3"
  },
  "language_info": {
   "codemirror_mode": {
    "name": "ipython",
    "version": 3
   },
   "file_extension": ".py",
   "mimetype": "text/x-python",
   "name": "python",
   "nbconvert_exporter": "python",
   "pygments_lexer": "ipython3",
   "version": "3.6.7"
  }
 },
 "nbformat": 4,
 "nbformat_minor": 2
}
